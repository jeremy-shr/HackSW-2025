{
 "cells": [
  {
   "cell_type": "code",
   "execution_count": 1,
   "id": "e5154771",
   "metadata": {},
   "outputs": [
    {
     "name": "stderr",
     "output_type": "stream",
     "text": [
      "2025-02-08 16:26:07.215123: I tensorflow/core/platform/cpu_feature_guard.cc:193] This TensorFlow binary is optimized with oneAPI Deep Neural Network Library (oneDNN) to use the following CPU instructions in performance-critical operations:  AVX2 AVX512F AVX512_VNNI FMA\n",
      "To enable them in other operations, rebuild TensorFlow with the appropriate compiler flags.\n",
      "2025-02-08 16:26:07.330135: I tensorflow/core/util/util.cc:169] oneDNN custom operations are on. You may see slightly different numerical results due to floating-point round-off errors from different computation orders. To turn them off, set the environment variable `TF_ENABLE_ONEDNN_OPTS=0`.\n",
      "2025-02-08 16:26:07.334379: W tensorflow/stream_executor/platform/default/dso_loader.cc:64] Could not load dynamic library 'libcudart.so.11.0'; dlerror: libcudart.so.11.0: cannot open shared object file: No such file or directory\n",
      "2025-02-08 16:26:07.334391: I tensorflow/stream_executor/cuda/cudart_stub.cc:29] Ignore above cudart dlerror if you do not have a GPU set up on your machine.\n",
      "2025-02-08 16:26:07.356519: E tensorflow/stream_executor/cuda/cuda_blas.cc:2981] Unable to register cuBLAS factory: Attempting to register factory for plugin cuBLAS when one has already been registered\n",
      "2025-02-08 16:26:07.909731: W tensorflow/stream_executor/platform/default/dso_loader.cc:64] Could not load dynamic library 'libnvinfer.so.7'; dlerror: libnvinfer.so.7: cannot open shared object file: No such file or directory\n",
      "2025-02-08 16:26:07.909791: W tensorflow/stream_executor/platform/default/dso_loader.cc:64] Could not load dynamic library 'libnvinfer_plugin.so.7'; dlerror: libnvinfer_plugin.so.7: cannot open shared object file: No such file or directory\n",
      "2025-02-08 16:26:07.909795: W tensorflow/compiler/tf2tensorrt/utils/py_utils.cc:38] TF-TRT Warning: Cannot dlopen some TensorRT libraries. If you would like to use Nvidia GPU with TensorRT, please make sure the missing libraries mentioned above are installed properly.\n"
     ]
    }
   ],
   "source": [
    "from tensorflow.keras.models import load_model\n",
    "import numpy as np"
   ]
  },
  {
   "cell_type": "code",
   "execution_count": 2,
   "id": "731904f6",
   "metadata": {},
   "outputs": [
    {
     "name": "stderr",
     "output_type": "stream",
     "text": [
      "2025-02-08 16:26:08.717339: W tensorflow/stream_executor/platform/default/dso_loader.cc:64] Could not load dynamic library 'libcuda.so.1'; dlerror: libcuda.so.1: cannot open shared object file: No such file or directory\n",
      "2025-02-08 16:26:08.717366: W tensorflow/stream_executor/cuda/cuda_driver.cc:263] failed call to cuInit: UNKNOWN ERROR (303)\n",
      "2025-02-08 16:26:08.717383: I tensorflow/stream_executor/cuda/cuda_diagnostics.cc:156] kernel driver does not appear to be running on this host (adamo-Surface-Pro-7): /proc/driver/nvidia/version does not exist\n",
      "2025-02-08 16:26:08.717672: I tensorflow/core/platform/cpu_feature_guard.cc:193] This TensorFlow binary is optimized with oneAPI Deep Neural Network Library (oneDNN) to use the following CPU instructions in performance-critical operations:  AVX2 AVX512F AVX512_VNNI FMA\n",
      "To enable them in other operations, rebuild TensorFlow with the appropriate compiler flags.\n"
     ]
    }
   ],
   "source": [
    "loaded_model = load_model('sequential-model.h5')"
   ]
  },
  {
   "cell_type": "code",
   "execution_count": 3,
   "id": "2a7c8ddf",
   "metadata": {},
   "outputs": [],
   "source": [
    "mappings = {\n",
    "    'street_type': {'Road': 0, 'Lane': 1, 'Other': 2, 'Trail': 3},\n",
    "    'fire_unit': {'LNU': 0, 'AEU': 1},\n",
    "    'structure_type': {'Single Family Residence Single Story': 1},\n",
    "    'structure_category': {'Single Residence': 0},\n",
    "    'roof_material': {'Asphalt': 0},\n",
    "    'eaves': {'Unenclosed': 0},\n",
    "    'exterior_siding': {'Wood': 0},\n",
    "    'window_pane': {'Single Pane': 0},\n",
    "    'attached_patio_material': {'No Patio Cover/Carport': 0},\n",
    "    'attached_fence_material': {'No Fence': 0},\n",
    "}\n",
    "\n",
    "\n",
    "sample_input = {\n",
    "    'street_type': 'Road',\n",
    "    'fire_unit': 'LNU',\n",
    "    'structure_type': 'Single Family Residence Single Story',\n",
    "    'structure_category': 'Single Residence',\n",
    "    'roof_material': 'Asphalt',\n",
    "    'eaves': 'Unenclosed',\n",
    "    'exterior_siding': 'Wood',\n",
    "    'window_pane': 'Single Pane',\n",
    "    'attached_patio_material': 'No Patio Cover/Carport',\n",
    "    'attached_fence_material': 'No Fence',\n",
    "    'age': 25\n",
    "}\n",
    "\n",
    "encoded_input = [\n",
    "    mappings['street_type'][sample_input['street_type']],\n",
    "    mappings['fire_unit'][sample_input['fire_unit']],\n",
    "    mappings['structure_type'][sample_input['structure_type']],\n",
    "    mappings['structure_category'][sample_input['structure_category']],\n",
    "    mappings['roof_material'][sample_input['roof_material']],\n",
    "    mappings['eaves'][sample_input['eaves']],\n",
    "    mappings['exterior_siding'][sample_input['exterior_siding']],\n",
    "    mappings['window_pane'][sample_input['window_pane']],\n",
    "    mappings['attached_patio_material'][sample_input['attached_patio_material']],\n",
    "    mappings['attached_fence_material'][sample_input['attached_fence_material']],\n",
    "    sample_input['age'],  # Numerical feature\n",
    "]\n",
    "\n",
    "encoded_input = np.array(encoded_input).reshape(1, -1)  # Reshape for prediction"
   ]
  },
  {
   "cell_type": "code",
   "execution_count": 5,
   "id": "951c99d9",
   "metadata": {},
   "outputs": [
    {
     "name": "stdout",
     "output_type": "stream",
     "text": [
      "1/1 [==============================] - 0s 64ms/step\n",
      "Predicted Damage Class: Destroyed (>50%)\n"
     ]
    }
   ],
   "source": [
    "prediction = loaded_model.predict(encoded_input)\n",
    "predicted_class = prediction.argmax(axis=1)[0]  # Get the class with the highest probability\n",
    "\n",
    "damage_mapping = {\n",
    "    0: 'No Damage',\n",
    "    1: 'Affected (1-9%)',\n",
    "    2: 'Minor (10-25%)',\n",
    "    3: 'Destroyed (>50%)',\n",
    "    4: 'Major (26-50%)',\n",
    "    5: 'Inaccessible'\n",
    "}\n",
    "predicted_label = damage_mapping[predicted_class]\n",
    "\n",
    "print(f\"Predicted Damage Class: {predicted_label}\")\n"
   ]
  }
 ],
 "metadata": {
  "kernelspec": {
   "display_name": "Python 3 (ipykernel)",
   "language": "python",
   "name": "python3"
  },
  "language_info": {
   "codemirror_mode": {
    "name": "ipython",
    "version": 3
   },
   "file_extension": ".py",
   "mimetype": "text/x-python",
   "name": "python",
   "nbconvert_exporter": "python",
   "pygments_lexer": "ipython3",
   "version": "3.10.12"
  }
 },
 "nbformat": 4,
 "nbformat_minor": 5
}
