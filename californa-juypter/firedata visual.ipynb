{
 "cells": [
  {
   "cell_type": "code",
   "execution_count": null,
   "id": "6b709573",
   "metadata": {},
   "outputs": [],
   "source": [
    "import pandas"
   ]
  },
  {
   "cell_type": "code",
   "execution_count": null,
   "id": "52e78a7f",
   "metadata": {},
   "outputs": [],
   "source": [
    "import pandas as pd\n",
    "import folium"
   ]
  },
  {
   "cell_type": "code",
   "execution_count": null,
   "id": "a1ed71fa",
   "metadata": {},
   "outputs": [],
   "source": [
    "filename = \"dataset.csv\"\n",
    "\n",
    "df = pd.read_csv(filename)\n",
    "df.head()\n"
   ]
  },
  {
   "cell_type": "code",
   "execution_count": null,
   "id": "a6510366",
   "metadata": {},
   "outputs": [],
   "source": [
    "\n",
    "california_center = [37.0, -120.0]\n",
    "\n",
    "# Create the map\n",
    "m = folium.Map(location=california_center, \n",
    "               zoom_start=6,\n",
    "               tiles='CartoDB positron') \n"
   ]
  },
  {
   "cell_type": "code",
   "execution_count": null,
   "id": "b64760a1",
   "metadata": {},
   "outputs": [],
   "source": [
    "for idx, row in df.iterrows():\n",
    "    lat = row['Latitude'] \n",
    "    lon = row['Longitude']  \n",
    "    \n",
    "    # Optionally, if there's a fire name column:\n",
    "    fire_name = row.get('FIRE_NAME', 'Unknown Fire')\n",
    "    \n",
    "    folium.CircleMarker(\n",
    "        location=[lat, lon],\n",
    "        radius=2,              \n",
    "        popup=fire_name,       \n",
    "        color=\"red\",\n",
    "        fill=True,\n",
    "        fill_color=\"red\"\n",
    "    ).add_to(m)\n",
    "m"
   ]
  }
 ],
 "metadata": {
  "kernelspec": {
   "display_name": "Python 3 (ipykernel)",
   "language": "python",
   "name": "python3"
  },
  "language_info": {
   "codemirror_mode": {
    "name": "ipython",
    "version": 3
   },
   "file_extension": ".py",
   "mimetype": "text/x-python",
   "name": "python",
   "nbconvert_exporter": "python",
   "pygments_lexer": "ipython3",
   "version": "3.10.12"
  }
 },
 "nbformat": 4,
 "nbformat_minor": 5
}
