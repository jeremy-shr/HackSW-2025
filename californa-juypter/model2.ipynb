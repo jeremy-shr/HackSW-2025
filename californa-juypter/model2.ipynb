{
 "cells": [
  {
   "cell_type": "code",
   "execution_count": 1,
   "metadata": {},
   "outputs": [],
   "source": [
    "import pandas as pd\n",
    "import nltk\n",
    "from nltk.tokenize import word_tokenize\n",
    "import math"
   ]
  },
  {
   "cell_type": "code",
   "execution_count": 2,
   "metadata": {},
   "outputs": [],
   "source": [
    "df = pd.read_csv('cleaned_dataset.csv')"
   ]
  },
  {
   "cell_type": "code",
   "execution_count": 3,
   "metadata": {},
   "outputs": [
    {
     "data": {
      "text/html": [
       "<div>\n",
       "<style scoped>\n",
       "    .dataframe tbody tr th:only-of-type {\n",
       "        vertical-align: middle;\n",
       "    }\n",
       "\n",
       "    .dataframe tbody tr th {\n",
       "        vertical-align: top;\n",
       "    }\n",
       "\n",
       "    .dataframe thead th {\n",
       "        text-align: right;\n",
       "    }\n",
       "</style>\n",
       "<table border=\"1\" class=\"dataframe\">\n",
       "  <thead>\n",
       "    <tr style=\"text-align: right;\">\n",
       "      <th></th>\n",
       "      <th>damage</th>\n",
       "      <th>street_type</th>\n",
       "      <th>fire_unit</th>\n",
       "      <th>incident_start_date</th>\n",
       "      <th>structure_type</th>\n",
       "      <th>structure_category</th>\n",
       "      <th>roof_material</th>\n",
       "      <th>eaves</th>\n",
       "      <th>exterior_siding</th>\n",
       "      <th>window_pane</th>\n",
       "      <th>attached_patio_material</th>\n",
       "      <th>attached_fence_material</th>\n",
       "      <th>year_built</th>\n",
       "    </tr>\n",
       "  </thead>\n",
       "  <tbody>\n",
       "    <tr>\n",
       "      <th>0</th>\n",
       "      <td>No Damage</td>\n",
       "      <td>Road</td>\n",
       "      <td>LNU</td>\n",
       "      <td>6/6/2020 12:00:00 AM</td>\n",
       "      <td>Single Family Residence Multi Story</td>\n",
       "      <td>Single Residence</td>\n",
       "      <td>Asphalt</td>\n",
       "      <td>Unenclosed</td>\n",
       "      <td>Wood</td>\n",
       "      <td>Single Pane</td>\n",
       "      <td>No Patio Cover/Carport</td>\n",
       "      <td>No Fence</td>\n",
       "      <td>1997.0</td>\n",
       "    </tr>\n",
       "    <tr>\n",
       "      <th>1</th>\n",
       "      <td>Affected (1-9%)</td>\n",
       "      <td>Road</td>\n",
       "      <td>LNU</td>\n",
       "      <td>6/6/2020 12:00:00 AM</td>\n",
       "      <td>Single Family Residence Single Story</td>\n",
       "      <td>Single Residence</td>\n",
       "      <td>Asphalt</td>\n",
       "      <td>Unenclosed</td>\n",
       "      <td>Wood</td>\n",
       "      <td>Multi Pane</td>\n",
       "      <td>No Patio Cover/Carport</td>\n",
       "      <td>Combustible</td>\n",
       "      <td>1980.0</td>\n",
       "    </tr>\n",
       "    <tr>\n",
       "      <th>2</th>\n",
       "      <td>No Damage</td>\n",
       "      <td>Road</td>\n",
       "      <td>LNU</td>\n",
       "      <td>6/6/2020 12:00:00 AM</td>\n",
       "      <td>Single Family Residence Single Story</td>\n",
       "      <td>Single Residence</td>\n",
       "      <td>Asphalt</td>\n",
       "      <td>Enclosed</td>\n",
       "      <td>Wood</td>\n",
       "      <td>Single Pane</td>\n",
       "      <td>No Patio Cover/Carport</td>\n",
       "      <td>No Fence</td>\n",
       "      <td>2004.0</td>\n",
       "    </tr>\n",
       "    <tr>\n",
       "      <th>3</th>\n",
       "      <td>No Damage</td>\n",
       "      <td>Road</td>\n",
       "      <td>LNU</td>\n",
       "      <td>6/6/2020 12:00:00 AM</td>\n",
       "      <td>Single Family Residence Single Story</td>\n",
       "      <td>Single Residence</td>\n",
       "      <td>Asphalt</td>\n",
       "      <td>Unenclosed</td>\n",
       "      <td>Wood</td>\n",
       "      <td>Single Pane</td>\n",
       "      <td>Combustible</td>\n",
       "      <td>No Fence</td>\n",
       "      <td>1981.0</td>\n",
       "    </tr>\n",
       "    <tr>\n",
       "      <th>4</th>\n",
       "      <td>No Damage</td>\n",
       "      <td>Road</td>\n",
       "      <td>LNU</td>\n",
       "      <td>6/6/2020 12:00:00 AM</td>\n",
       "      <td>Single Family Residence Single Story</td>\n",
       "      <td>Single Residence</td>\n",
       "      <td>Tile</td>\n",
       "      <td>Enclosed</td>\n",
       "      <td>Wood</td>\n",
       "      <td>Multi Pane</td>\n",
       "      <td>Combustible</td>\n",
       "      <td>No Fence</td>\n",
       "      <td>1980.0</td>\n",
       "    </tr>\n",
       "  </tbody>\n",
       "</table>\n",
       "</div>"
      ],
      "text/plain": [
       "            damage street_type fire_unit   incident_start_date  \\\n",
       "0        No Damage        Road       LNU  6/6/2020 12:00:00 AM   \n",
       "1  Affected (1-9%)        Road       LNU  6/6/2020 12:00:00 AM   \n",
       "2        No Damage        Road       LNU  6/6/2020 12:00:00 AM   \n",
       "3        No Damage        Road       LNU  6/6/2020 12:00:00 AM   \n",
       "4        No Damage        Road       LNU  6/6/2020 12:00:00 AM   \n",
       "\n",
       "                         structure_type structure_category roof_material  \\\n",
       "0   Single Family Residence Multi Story   Single Residence       Asphalt   \n",
       "1  Single Family Residence Single Story   Single Residence       Asphalt   \n",
       "2  Single Family Residence Single Story   Single Residence       Asphalt   \n",
       "3  Single Family Residence Single Story   Single Residence       Asphalt   \n",
       "4  Single Family Residence Single Story   Single Residence          Tile   \n",
       "\n",
       "        eaves exterior_siding  window_pane attached_patio_material  \\\n",
       "0  Unenclosed            Wood  Single Pane  No Patio Cover/Carport   \n",
       "1  Unenclosed            Wood   Multi Pane  No Patio Cover/Carport   \n",
       "2    Enclosed            Wood  Single Pane  No Patio Cover/Carport   \n",
       "3  Unenclosed            Wood  Single Pane             Combustible   \n",
       "4    Enclosed            Wood   Multi Pane             Combustible   \n",
       "\n",
       "  attached_fence_material  year_built  \n",
       "0                No Fence      1997.0  \n",
       "1             Combustible      1980.0  \n",
       "2                No Fence      2004.0  \n",
       "3                No Fence      1981.0  \n",
       "4                No Fence      1980.0  "
      ]
     },
     "execution_count": 3,
     "metadata": {},
     "output_type": "execute_result"
    }
   ],
   "source": [
    "df.head()"
   ]
  },
  {
   "cell_type": "code",
   "execution_count": 4,
   "metadata": {},
   "outputs": [
    {
     "name": "stdout",
     "output_type": "stream",
     "text": [
      "<class 'pandas.core.frame.DataFrame'>\n",
      "RangeIndex: 100230 entries, 0 to 100229\n",
      "Data columns (total 13 columns):\n",
      " #   Column                   Non-Null Count   Dtype  \n",
      "---  ------                   --------------   -----  \n",
      " 0   damage                   100230 non-null  object \n",
      " 1   street_type              93525 non-null   object \n",
      " 2   fire_unit                100230 non-null  object \n",
      " 3   incident_start_date      100230 non-null  object \n",
      " 4   structure_type           100230 non-null  object \n",
      " 5   structure_category       100230 non-null  object \n",
      " 6   roof_material            99602 non-null   object \n",
      " 7   eaves                    99118 non-null   object \n",
      " 8   exterior_siding          99321 non-null   object \n",
      " 9   window_pane              99254 non-null   object \n",
      " 10  attached_patio_material  100230 non-null  object \n",
      " 11  attached_fence_material  78635 non-null   object \n",
      " 12  year_built               69812 non-null   float64\n",
      "dtypes: float64(1), object(12)\n",
      "memory usage: 9.9+ MB\n"
     ]
    }
   ],
   "source": [
    "df.info()"
   ]
  },
  {
   "cell_type": "code",
   "execution_count": 5,
   "metadata": {},
   "outputs": [
    {
     "data": {
      "text/plain": [
       "array(['LNU', 'AEU', 'BTU', 'SLU', 'SKU', 'SCU', 'BEU', 'LMU', 'RRU',\n",
       "       'BDU', 'KRN', 'NEU', 'SHU', 'TGU', 'LAC', 'MEU', 'MVU', 'HUU',\n",
       "       'TUU', 'FKU', 'MMU', 'CZU', 'ORC', 'VNC', 'TCU', 'SBC', 'SDU'],\n",
       "      dtype=object)"
      ]
     },
     "execution_count": 5,
     "metadata": {},
     "output_type": "execute_result"
    }
   ],
   "source": [
    "df['fire_unit'].unique()"
   ]
  },
  {
   "cell_type": "code",
   "execution_count": 6,
   "metadata": {},
   "outputs": [],
   "source": [
    "df['incident_start_date'] = pd.to_datetime(df['incident_start_date'], format='%m/%d/%Y %I:%M:%S %p')\n",
    "df['incident_year'] = df['incident_start_date'].dt.strftime('%Y-%m-%d')\n"
   ]
  },
  {
   "cell_type": "code",
   "execution_count": 7,
   "metadata": {},
   "outputs": [
    {
     "name": "stdout",
     "output_type": "stream",
     "text": [
      "{'damage': {'No Damage': 0, 'Affected (1-9%)': 1, 'Minor (10-25%)': 2, 'Destroyed (>50%)': 3, 'Major (26-50%)': 4, 'Inaccessible': 5}, 'street_type': {'Road': 0, 'Lane': 1, 'Other': 2, 'Trail': 3, 'Drive': 4, 'Street': 5, 'None': 6, 'Way': 7, 'Avenue': 8, 'Court': 9, 'Loop': 10, 'Route': 11, 'Place': 12, 'Alley': 13, 'Terrace': 14, 'Circle': 15, 'Boulevard': 16, 'Parkway': 17, nan: 18, ' ': 19, 'Hwy': 20, 'Dirt road': 21, '-': 22, 'not given': 23, 'Grade': 24, 'Ext.': 25, 'not noted': 26, 'Unk': 27, 'Pass': 28}, 'fire_unit': {'LNU': 0, 'AEU': 1, 'BTU': 2, 'SLU': 3, 'SKU': 4, 'SCU': 5, 'BEU': 6, 'LMU': 7, 'RRU': 8, 'BDU': 9, 'KRN': 10, 'NEU': 11, 'SHU': 12, 'TGU': 13, 'LAC': 14, 'MEU': 15, 'MVU': 16, 'HUU': 17, 'TUU': 18, 'FKU': 19, 'MMU': 20, 'CZU': 21, 'ORC': 22, 'VNC': 23, 'TCU': 24, 'SBC': 25, 'SDU': 26}, 'structure_type': {'Single Family Residence Multi Story': 0, 'Single Family Residence Single Story': 1, 'Utility Misc Structure': 2, 'Mobile Home Double Wide': 3, 'Motor Home': 4, 'Multi Family Residence Multi Story': 5, 'Commercial Building Single Story': 6, 'Mobile Home Single Wide': 7, 'Mixed Commercial/Residential': 8, 'Mobile Home Triple Wide': 9, 'Infrastructure': 10, 'School': 11, 'Multi Family Residence Single Story': 12, 'Commercial Building Multi Story': 13, 'Church': 14, 'Hospital': 15, 'Agriculture': 16, 'Single Famliy Residence Single Story': 17, 'Utility or Miscellaneous Structure > 120 sqft': 18}, 'structure_category': {'Single Residence': 0, 'Other Minor Structure': 1, 'Multiple Residence': 2, 'Nonresidential Commercial': 3, 'Mixed Commercial/Residential': 4, 'Infrastructure': 5, 'Agriculture': 6}, 'roof_material': {'Asphalt': 0, 'Tile': 1, 'Unknown': 2, 'Metal': 3, 'Concrete': 4, 'Other': 5, 'Wood': 6, ' ': 7, 'Combustible': 8, 'Fire Resistant': 9, nan: 10, 'No Deck/Porch': 11}, 'eaves': {'Unenclosed': 0, 'Enclosed': 1, 'Unknown': 2, 'No Eaves': 3, ' ': 4, 'Not Applicable': 5, nan: 6}, 'exterior_siding': {'Wood': 0, 'Stucco Brick Cement': 1, 'Unknown': 2, 'Metal': 3, 'Other': 4, 'Vinyl': 5, 'Ignition Resistant': 6, 'Combustible': 7, ' ': 8, 'Fire Resistant': 9, nan: 10, 'Stucco/Brick/Cement': 11}, 'window_pane': {'Single Pane': 0, 'Multi Pane': 1, 'Unknown': 2, 'No Windows': 3, ' ': 4, nan: 5, 'No Deck/Porch': 6, 'Radiant Heat': 7}, 'attached_patio_material': {'No Patio Cover/Carport': 0, 'Combustible': 1, 'Unknown': 2, 'Non Combustible': 3, ' ': 4}, 'attached_fence_material': {'No Fence': 0, 'Combustible': 1, 'Unknown': 2, 'Non Combustible': 3, nan: 4}}\n"
     ]
    }
   ],
   "source": [
    "bins_map = {} \n",
    "columns_to_bin = ['damage','street_type','fire_unit','structure_type','structure_category','roof_material','eaves','exterior_siding','window_pane','attached_patio_material','attached_fence_material']\n",
    "\n",
    "for column in df.columns: \n",
    "    if column not in columns_to_bin:\n",
    "        continue\n",
    "    unique_units = df[column].unique() \n",
    "    \n",
    "    mapping = {unit: idx for idx, unit in enumerate(unique_units, start=0)}\n",
    "    bins_map[column] = mapping \n",
    "    \n",
    "    df[column] = df[column].map(mapping)\n",
    "\n",
    "print(bins_map)\n"
   ]
  },
  {
   "cell_type": "code",
   "execution_count": 8,
   "metadata": {},
   "outputs": [],
   "source": [
    "# Ensure 'year_built' is numeric\n",
    "df['year_built'] = pd.to_numeric(df['year_built'], errors='coerce')\n",
    "\n",
    "# Extract 'incident_year' from 'incident_start_date' and ensure it's numeric\n",
    "df['incident_year'] = pd.to_datetime(df['incident_start_date']).dt.year\n",
    "\n",
    "# Handle missing 'year_built' values by filling them with the median\n",
    "df['year_built'] = df['year_built'].fillna(df['year_built'].median())\n",
    "\n",
    "# Calculate the age of the building, ensuring it's an integer\n",
    "df['age'] = (df['incident_year'] - df['year_built']).astype(int)"
   ]
  },
  {
   "cell_type": "code",
   "execution_count": 9,
   "metadata": {},
   "outputs": [],
   "source": [
    "# Drop the incident_start_date & year_built column\n",
    "df.drop(columns=['incident_start_date'], inplace=True)\n",
    "df.drop(columns=['year_built'], inplace=True)\n",
    "df.drop(columns=['incident_year'], inplace=True)"
   ]
  },
  {
   "cell_type": "code",
   "execution_count": 10,
   "metadata": {},
   "outputs": [
    {
     "name": "stderr",
     "output_type": "stream",
     "text": [
      "2025-02-08 22:01:14.042520: I tensorflow/core/platform/cpu_feature_guard.cc:193] This TensorFlow binary is optimized with oneAPI Deep Neural Network Library (oneDNN) to use the following CPU instructions in performance-critical operations:  AVX2 AVX512F AVX512_VNNI FMA\n",
      "To enable them in other operations, rebuild TensorFlow with the appropriate compiler flags.\n",
      "2025-02-08 22:01:14.185310: I tensorflow/core/util/util.cc:169] oneDNN custom operations are on. You may see slightly different numerical results due to floating-point round-off errors from different computation orders. To turn them off, set the environment variable `TF_ENABLE_ONEDNN_OPTS=0`.\n",
      "2025-02-08 22:01:14.189270: W tensorflow/stream_executor/platform/default/dso_loader.cc:64] Could not load dynamic library 'libcudart.so.11.0'; dlerror: libcudart.so.11.0: cannot open shared object file: No such file or directory\n",
      "2025-02-08 22:01:14.189282: I tensorflow/stream_executor/cuda/cudart_stub.cc:29] Ignore above cudart dlerror if you do not have a GPU set up on your machine.\n",
      "2025-02-08 22:01:14.208076: E tensorflow/stream_executor/cuda/cuda_blas.cc:2981] Unable to register cuBLAS factory: Attempting to register factory for plugin cuBLAS when one has already been registered\n",
      "2025-02-08 22:01:14.944152: W tensorflow/stream_executor/platform/default/dso_loader.cc:64] Could not load dynamic library 'libnvinfer.so.7'; dlerror: libnvinfer.so.7: cannot open shared object file: No such file or directory\n",
      "2025-02-08 22:01:14.944224: W tensorflow/stream_executor/platform/default/dso_loader.cc:64] Could not load dynamic library 'libnvinfer_plugin.so.7'; dlerror: libnvinfer_plugin.so.7: cannot open shared object file: No such file or directory\n",
      "2025-02-08 22:01:14.944229: W tensorflow/compiler/tf2tensorrt/utils/py_utils.cc:38] TF-TRT Warning: Cannot dlopen some TensorRT libraries. If you would like to use Nvidia GPU with TensorRT, please make sure the missing libraries mentioned above are installed properly.\n"
     ]
    }
   ],
   "source": [
    "from tensorflow.keras.utils import to_categorical\n",
    "from tensorflow.keras.models import Sequential\n",
    "from tensorflow.keras.layers import Dense, BatchNormalization, Dropout, LeakyReLU\n",
    "from tensorflow.keras.optimizers import Adam\n",
    "from tensorflow.keras.callbacks import ReduceLROnPlateau, EarlyStopping\n",
    "\n",
    "\n",
    "from sklearn.model_selection import train_test_split\n",
    "from sklearn.metrics import classification_report"
   ]
  },
  {
   "cell_type": "code",
   "execution_count": 11,
   "metadata": {},
   "outputs": [],
   "source": [
    "# Define features (X) and target (y)\n",
    "X = df.drop(columns=['damage'])\n",
    "y = df['damage']"
   ]
  },
  {
   "cell_type": "code",
   "execution_count": 12,
   "metadata": {},
   "outputs": [],
   "source": [
    "# One-hot encode the target variable if it's multi-class\n",
    "num_classes = len(y.unique())  \n",
    "y = to_categorical(y, num_classes=num_classes)"
   ]
  },
  {
   "cell_type": "code",
   "execution_count": 13,
   "metadata": {},
   "outputs": [],
   "source": [
    "# Split data into training and testing sets\n",
    "from sklearn.preprocessing import StandardScaler\n",
    "\n",
    "scaler = StandardScaler()\n",
    "X_train, X_test, y_train, y_test = train_test_split(X, y, test_size=0.2, random_state=42)\n",
    "X_train = scaler.fit_transform(X_train)\n",
    "X_test = scaler.transform(X_test)"
   ]
  },
  {
   "cell_type": "code",
   "execution_count": 14,
   "metadata": {},
   "outputs": [
    {
     "name": "stderr",
     "output_type": "stream",
     "text": [
      "2025-02-08 22:01:15.896155: W tensorflow/stream_executor/platform/default/dso_loader.cc:64] Could not load dynamic library 'libcuda.so.1'; dlerror: libcuda.so.1: cannot open shared object file: No such file or directory\n",
      "2025-02-08 22:01:15.896177: W tensorflow/stream_executor/cuda/cuda_driver.cc:263] failed call to cuInit: UNKNOWN ERROR (303)\n",
      "2025-02-08 22:01:15.896191: I tensorflow/stream_executor/cuda/cuda_diagnostics.cc:156] kernel driver does not appear to be running on this host (adamo-Surface-Pro-7): /proc/driver/nvidia/version does not exist\n",
      "2025-02-08 22:01:15.896526: I tensorflow/core/platform/cpu_feature_guard.cc:193] This TensorFlow binary is optimized with oneAPI Deep Neural Network Library (oneDNN) to use the following CPU instructions in performance-critical operations:  AVX2 AVX512F AVX512_VNNI FMA\n",
      "To enable them in other operations, rebuild TensorFlow with the appropriate compiler flags.\n"
     ]
    }
   ],
   "source": [
    "# Build the Keras model\n",
    "\n",
    "model = Sequential([\n",
    "    Dense(256, activation='relu', input_shape=(X_train.shape[1],)),  \n",
    "    BatchNormalization(),\n",
    "    Dropout(0.3),\n",
    "\n",
    "    Dense(128, activation='relu'),\n",
    "    BatchNormalization(),\n",
    "    Dropout(0.3),\n",
    "\n",
    "    Dense(64, activation='relu'),\n",
    "    BatchNormalization(),\n",
    "    \n",
    "    Dense(32, activation='relu'),\n",
    "    \n",
    "    Dense(16, activation='relu'),\n",
    "\n",
    "    Dense(num_classes, activation='softmax')  # Output layer\n",
    "])"
   ]
  },
  {
   "cell_type": "code",
   "execution_count": 15,
   "metadata": {},
   "outputs": [
    {
     "name": "stdout",
     "output_type": "stream",
     "text": [
      "Epoch 1/100\n",
      "2005/2005 [==============================] - 5s 2ms/step - loss: 0.6118 - accuracy: 0.8014 - val_loss: 0.4785 - val_accuracy: 0.8451\n",
      "Epoch 2/100\n",
      "2005/2005 [==============================] - 4s 2ms/step - loss: 0.4850 - accuracy: 0.8440 - val_loss: 0.4538 - val_accuracy: 0.8515\n",
      "Epoch 3/100\n",
      "2005/2005 [==============================] - 4s 2ms/step - loss: 0.4584 - accuracy: 0.8511 - val_loss: 0.4337 - val_accuracy: 0.8583\n",
      "Epoch 4/100\n",
      "2005/2005 [==============================] - 4s 2ms/step - loss: 0.4484 - accuracy: 0.8542 - val_loss: 0.4299 - val_accuracy: 0.8603\n",
      "Epoch 5/100\n",
      "2005/2005 [==============================] - 4s 2ms/step - loss: 0.4397 - accuracy: 0.8559 - val_loss: 0.4242 - val_accuracy: 0.8608\n",
      "Epoch 6/100\n",
      "2005/2005 [==============================] - 4s 2ms/step - loss: 0.4345 - accuracy: 0.8578 - val_loss: 0.4178 - val_accuracy: 0.8625\n",
      "Epoch 7/100\n",
      "2005/2005 [==============================] - 4s 2ms/step - loss: 0.4280 - accuracy: 0.8592 - val_loss: 0.4177 - val_accuracy: 0.8608\n",
      "Epoch 8/100\n",
      "2005/2005 [==============================] - 4s 2ms/step - loss: 0.4230 - accuracy: 0.8613 - val_loss: 0.4140 - val_accuracy: 0.8632\n",
      "Epoch 9/100\n",
      "2005/2005 [==============================] - 4s 2ms/step - loss: 0.4208 - accuracy: 0.8609 - val_loss: 0.4105 - val_accuracy: 0.8646\n",
      "Epoch 10/100\n",
      "2005/2005 [==============================] - 4s 2ms/step - loss: 0.4196 - accuracy: 0.8609 - val_loss: 0.4073 - val_accuracy: 0.8650\n",
      "Epoch 11/100\n",
      "2005/2005 [==============================] - 4s 2ms/step - loss: 0.4143 - accuracy: 0.8635 - val_loss: 0.4077 - val_accuracy: 0.8633\n",
      "Epoch 12/100\n",
      "2005/2005 [==============================] - 4s 2ms/step - loss: 0.4147 - accuracy: 0.8634 - val_loss: 0.4061 - val_accuracy: 0.8635\n",
      "Epoch 13/100\n",
      "2005/2005 [==============================] - 4s 2ms/step - loss: 0.4114 - accuracy: 0.8645 - val_loss: 0.4048 - val_accuracy: 0.8646\n",
      "Epoch 14/100\n",
      "2005/2005 [==============================] - 4s 2ms/step - loss: 0.4110 - accuracy: 0.8643 - val_loss: 0.4043 - val_accuracy: 0.8657\n",
      "Epoch 15/100\n",
      "2005/2005 [==============================] - 4s 2ms/step - loss: 0.4088 - accuracy: 0.8655 - val_loss: 0.4044 - val_accuracy: 0.8650\n",
      "Epoch 16/100\n",
      "2005/2005 [==============================] - 4s 2ms/step - loss: 0.4085 - accuracy: 0.8642 - val_loss: 0.4014 - val_accuracy: 0.8666\n",
      "Epoch 17/100\n",
      "2005/2005 [==============================] - 4s 2ms/step - loss: 0.4064 - accuracy: 0.8658 - val_loss: 0.4013 - val_accuracy: 0.8657\n",
      "Epoch 18/100\n",
      "2005/2005 [==============================] - 4s 2ms/step - loss: 0.4035 - accuracy: 0.8667 - val_loss: 0.4009 - val_accuracy: 0.8659\n",
      "Epoch 19/100\n",
      "2005/2005 [==============================] - 4s 2ms/step - loss: 0.4040 - accuracy: 0.8656 - val_loss: 0.4002 - val_accuracy: 0.8690\n",
      "Epoch 20/100\n",
      "2005/2005 [==============================] - 4s 2ms/step - loss: 0.4021 - accuracy: 0.8660 - val_loss: 0.3951 - val_accuracy: 0.8664\n",
      "Epoch 21/100\n",
      "2005/2005 [==============================] - 4s 2ms/step - loss: 0.4009 - accuracy: 0.8669 - val_loss: 0.3946 - val_accuracy: 0.8678\n",
      "Epoch 22/100\n",
      "2005/2005 [==============================] - 4s 2ms/step - loss: 0.3995 - accuracy: 0.8672 - val_loss: 0.3947 - val_accuracy: 0.8681\n",
      "Epoch 23/100\n",
      "2005/2005 [==============================] - 4s 2ms/step - loss: 0.3987 - accuracy: 0.8671 - val_loss: 0.3940 - val_accuracy: 0.8682\n",
      "Epoch 24/100\n",
      "2005/2005 [==============================] - 4s 2ms/step - loss: 0.3969 - accuracy: 0.8694 - val_loss: 0.3925 - val_accuracy: 0.8692\n",
      "Epoch 25/100\n",
      "2005/2005 [==============================] - 4s 2ms/step - loss: 0.3964 - accuracy: 0.8680 - val_loss: 0.3919 - val_accuracy: 0.8702\n",
      "Epoch 26/100\n",
      "2005/2005 [==============================] - 4s 2ms/step - loss: 0.3946 - accuracy: 0.8681 - val_loss: 0.3984 - val_accuracy: 0.8685\n",
      "Epoch 27/100\n",
      "2005/2005 [==============================] - 4s 2ms/step - loss: 0.3956 - accuracy: 0.8694 - val_loss: 0.3901 - val_accuracy: 0.8689\n",
      "Epoch 28/100\n",
      "2005/2005 [==============================] - 4s 2ms/step - loss: 0.3934 - accuracy: 0.8690 - val_loss: 0.3911 - val_accuracy: 0.8682\n",
      "Epoch 29/100\n",
      "2005/2005 [==============================] - 4s 2ms/step - loss: 0.3920 - accuracy: 0.8704 - val_loss: 0.3881 - val_accuracy: 0.8705\n",
      "Epoch 30/100\n",
      "2005/2005 [==============================] - 4s 2ms/step - loss: 0.3916 - accuracy: 0.8698 - val_loss: 0.3930 - val_accuracy: 0.8702\n",
      "Epoch 31/100\n",
      "2005/2005 [==============================] - 4s 2ms/step - loss: 0.3909 - accuracy: 0.8701 - val_loss: 0.3888 - val_accuracy: 0.8711\n",
      "Epoch 32/100\n",
      "2005/2005 [==============================] - 4s 2ms/step - loss: 0.3912 - accuracy: 0.8700 - val_loss: 0.3900 - val_accuracy: 0.8706\n",
      "Epoch 33/100\n",
      "2005/2005 [==============================] - 4s 2ms/step - loss: 0.3909 - accuracy: 0.8705 - val_loss: 0.3877 - val_accuracy: 0.8720\n",
      "Epoch 34/100\n",
      "2005/2005 [==============================] - 4s 2ms/step - loss: 0.3888 - accuracy: 0.8709 - val_loss: 0.3877 - val_accuracy: 0.8722\n",
      "Epoch 35/100\n",
      "2005/2005 [==============================] - 4s 2ms/step - loss: 0.3868 - accuracy: 0.8703 - val_loss: 0.3879 - val_accuracy: 0.8702\n",
      "Epoch 36/100\n",
      "2005/2005 [==============================] - 4s 2ms/step - loss: 0.3878 - accuracy: 0.8721 - val_loss: 0.3837 - val_accuracy: 0.8736\n",
      "Epoch 37/100\n",
      "2005/2005 [==============================] - 4s 2ms/step - loss: 0.3863 - accuracy: 0.8707 - val_loss: 0.3848 - val_accuracy: 0.8722\n",
      "Epoch 38/100\n",
      "2005/2005 [==============================] - 4s 2ms/step - loss: 0.3868 - accuracy: 0.8708 - val_loss: 0.3864 - val_accuracy: 0.8742\n",
      "Epoch 39/100\n",
      "2005/2005 [==============================] - 4s 2ms/step - loss: 0.3867 - accuracy: 0.8714 - val_loss: 0.3814 - val_accuracy: 0.8728\n",
      "Epoch 40/100\n",
      "2005/2005 [==============================] - 4s 2ms/step - loss: 0.3859 - accuracy: 0.8714 - val_loss: 0.3850 - val_accuracy: 0.8722\n",
      "Epoch 41/100\n",
      "2005/2005 [==============================] - 4s 2ms/step - loss: 0.3846 - accuracy: 0.8715 - val_loss: 0.3829 - val_accuracy: 0.8729\n",
      "Epoch 42/100\n",
      "2005/2005 [==============================] - 4s 2ms/step - loss: 0.3839 - accuracy: 0.8724 - val_loss: 0.3850 - val_accuracy: 0.8722\n",
      "Epoch 43/100\n",
      "2005/2005 [==============================] - 4s 2ms/step - loss: 0.3851 - accuracy: 0.8723 - val_loss: 0.3823 - val_accuracy: 0.8752\n",
      "Epoch 44/100\n",
      "2005/2005 [==============================] - 4s 2ms/step - loss: 0.3819 - accuracy: 0.8725 - val_loss: 0.3839 - val_accuracy: 0.8748\n",
      "Epoch 45/100\n",
      "2005/2005 [==============================] - 4s 2ms/step - loss: 0.3831 - accuracy: 0.8727 - val_loss: 0.3825 - val_accuracy: 0.8744\n",
      "Epoch 46/100\n",
      "2005/2005 [==============================] - 4s 2ms/step - loss: 0.3819 - accuracy: 0.8732 - val_loss: 0.3814 - val_accuracy: 0.8737\n",
      "Epoch 47/100\n",
      "2005/2005 [==============================] - 4s 2ms/step - loss: 0.3831 - accuracy: 0.8725 - val_loss: 0.3800 - val_accuracy: 0.8749\n",
      "Epoch 48/100\n",
      "2005/2005 [==============================] - 4s 2ms/step - loss: 0.3813 - accuracy: 0.8732 - val_loss: 0.3817 - val_accuracy: 0.8749\n",
      "Epoch 49/100\n",
      "2005/2005 [==============================] - 4s 2ms/step - loss: 0.3800 - accuracy: 0.8740 - val_loss: 0.3817 - val_accuracy: 0.8725\n",
      "Epoch 50/100\n",
      "2005/2005 [==============================] - 4s 2ms/step - loss: 0.3790 - accuracy: 0.8737 - val_loss: 0.3809 - val_accuracy: 0.8755\n",
      "Epoch 51/100\n",
      "2005/2005 [==============================] - 4s 2ms/step - loss: 0.3800 - accuracy: 0.8730 - val_loss: 0.3843 - val_accuracy: 0.8711\n",
      "Epoch 52/100\n",
      "2005/2005 [==============================] - 4s 2ms/step - loss: 0.3792 - accuracy: 0.8738 - val_loss: 0.3817 - val_accuracy: 0.8749\n",
      "Epoch 53/100\n",
      "2005/2005 [==============================] - 4s 2ms/step - loss: 0.3793 - accuracy: 0.8738 - val_loss: 0.3810 - val_accuracy: 0.8734\n",
      "Epoch 54/100\n",
      "2005/2005 [==============================] - 4s 2ms/step - loss: 0.3768 - accuracy: 0.8742 - val_loss: 0.3801 - val_accuracy: 0.8760\n",
      "Epoch 55/100\n",
      "2005/2005 [==============================] - 4s 2ms/step - loss: 0.3780 - accuracy: 0.8741 - val_loss: 0.3811 - val_accuracy: 0.8740\n",
      "Epoch 56/100\n",
      "2005/2005 [==============================] - 4s 2ms/step - loss: 0.3780 - accuracy: 0.8735 - val_loss: 0.3778 - val_accuracy: 0.8747\n",
      "Epoch 57/100\n"
     ]
    },
    {
     "name": "stdout",
     "output_type": "stream",
     "text": [
      "2005/2005 [==============================] - 4s 2ms/step - loss: 0.3766 - accuracy: 0.8744 - val_loss: 0.3792 - val_accuracy: 0.8747\n",
      "Epoch 58/100\n",
      "2005/2005 [==============================] - 4s 2ms/step - loss: 0.3770 - accuracy: 0.8739 - val_loss: 0.3804 - val_accuracy: 0.8744\n",
      "Epoch 59/100\n",
      "2005/2005 [==============================] - 4s 2ms/step - loss: 0.3775 - accuracy: 0.8738 - val_loss: 0.3778 - val_accuracy: 0.8761\n",
      "Epoch 60/100\n",
      "2005/2005 [==============================] - 4s 2ms/step - loss: 0.3756 - accuracy: 0.8753 - val_loss: 0.3785 - val_accuracy: 0.8750\n",
      "Epoch 61/100\n",
      "2005/2005 [==============================] - 4s 2ms/step - loss: 0.3760 - accuracy: 0.8749 - val_loss: 0.3784 - val_accuracy: 0.8758\n",
      "Epoch 62/100\n",
      "2005/2005 [==============================] - 4s 2ms/step - loss: 0.3755 - accuracy: 0.8749 - val_loss: 0.3776 - val_accuracy: 0.8755\n",
      "Epoch 63/100\n",
      "2005/2005 [==============================] - 4s 2ms/step - loss: 0.3769 - accuracy: 0.8745 - val_loss: 0.3770 - val_accuracy: 0.8755\n",
      "Epoch 64/100\n",
      "2005/2005 [==============================] - 4s 2ms/step - loss: 0.3741 - accuracy: 0.8748 - val_loss: 0.3778 - val_accuracy: 0.8748\n",
      "Epoch 65/100\n",
      "2005/2005 [==============================] - 4s 2ms/step - loss: 0.3737 - accuracy: 0.8742 - val_loss: 0.3775 - val_accuracy: 0.8754\n",
      "Epoch 66/100\n",
      "2005/2005 [==============================] - 4s 2ms/step - loss: 0.3733 - accuracy: 0.8754 - val_loss: 0.3768 - val_accuracy: 0.8753\n",
      "Epoch 67/100\n",
      "2005/2005 [==============================] - 4s 2ms/step - loss: 0.3746 - accuracy: 0.8748 - val_loss: 0.3771 - val_accuracy: 0.8758\n",
      "Epoch 68/100\n",
      "2005/2005 [==============================] - 4s 2ms/step - loss: 0.3741 - accuracy: 0.8760 - val_loss: 0.3781 - val_accuracy: 0.8757\n",
      "Epoch 69/100\n",
      "2005/2005 [==============================] - 4s 2ms/step - loss: 0.3741 - accuracy: 0.8755 - val_loss: 0.3748 - val_accuracy: 0.8761\n",
      "Epoch 70/100\n",
      "2005/2005 [==============================] - 4s 2ms/step - loss: 0.3734 - accuracy: 0.8753 - val_loss: 0.3767 - val_accuracy: 0.8752\n",
      "Epoch 71/100\n",
      "2005/2005 [==============================] - 4s 2ms/step - loss: 0.3722 - accuracy: 0.8762 - val_loss: 0.3763 - val_accuracy: 0.8754\n",
      "Epoch 72/100\n",
      "2005/2005 [==============================] - 4s 2ms/step - loss: 0.3732 - accuracy: 0.8753 - val_loss: 0.3761 - val_accuracy: 0.8754\n",
      "Epoch 73/100\n",
      "2005/2005 [==============================] - 4s 2ms/step - loss: 0.3721 - accuracy: 0.8759 - val_loss: 0.3766 - val_accuracy: 0.8755\n",
      "Epoch 74/100\n",
      "2005/2005 [==============================] - 4s 2ms/step - loss: 0.3714 - accuracy: 0.8763 - val_loss: 0.3813 - val_accuracy: 0.8762\n",
      "Epoch 75/100\n",
      "2005/2005 [==============================] - 4s 2ms/step - loss: 0.3715 - accuracy: 0.8761 - val_loss: 0.3779 - val_accuracy: 0.8761\n",
      "Epoch 76/100\n",
      "2005/2005 [==============================] - 4s 2ms/step - loss: 0.3719 - accuracy: 0.8757 - val_loss: 0.3765 - val_accuracy: 0.8756\n",
      "Epoch 77/100\n",
      "2005/2005 [==============================] - 4s 2ms/step - loss: 0.3699 - accuracy: 0.8769 - val_loss: 0.3761 - val_accuracy: 0.8759\n",
      "Epoch 78/100\n",
      "2005/2005 [==============================] - 4s 2ms/step - loss: 0.3718 - accuracy: 0.8761 - val_loss: 0.3741 - val_accuracy: 0.8773\n",
      "Epoch 79/100\n",
      "2005/2005 [==============================] - 4s 2ms/step - loss: 0.3704 - accuracy: 0.8773 - val_loss: 0.3766 - val_accuracy: 0.8742\n",
      "Epoch 80/100\n",
      "2005/2005 [==============================] - 4s 2ms/step - loss: 0.3721 - accuracy: 0.8748 - val_loss: 0.3753 - val_accuracy: 0.8770\n",
      "Epoch 81/100\n",
      "2005/2005 [==============================] - 4s 2ms/step - loss: 0.3686 - accuracy: 0.8768 - val_loss: 0.3752 - val_accuracy: 0.8768\n",
      "Epoch 82/100\n",
      "2005/2005 [==============================] - 4s 2ms/step - loss: 0.3699 - accuracy: 0.8776 - val_loss: 0.3737 - val_accuracy: 0.8770\n",
      "Epoch 83/100\n",
      "2005/2005 [==============================] - 4s 2ms/step - loss: 0.3687 - accuracy: 0.8769 - val_loss: 0.3742 - val_accuracy: 0.8775\n",
      "Epoch 84/100\n",
      "2005/2005 [==============================] - 4s 2ms/step - loss: 0.3706 - accuracy: 0.8762 - val_loss: 0.3728 - val_accuracy: 0.8767\n",
      "Epoch 85/100\n",
      "2005/2005 [==============================] - 4s 2ms/step - loss: 0.3692 - accuracy: 0.8771 - val_loss: 0.3757 - val_accuracy: 0.8758\n",
      "Epoch 86/100\n",
      "2005/2005 [==============================] - 4s 2ms/step - loss: 0.3697 - accuracy: 0.8772 - val_loss: 0.3744 - val_accuracy: 0.8775\n",
      "Epoch 87/100\n",
      "2005/2005 [==============================] - 4s 2ms/step - loss: 0.3710 - accuracy: 0.8760 - val_loss: 0.3757 - val_accuracy: 0.8759\n",
      "Epoch 88/100\n",
      "2005/2005 [==============================] - 4s 2ms/step - loss: 0.3695 - accuracy: 0.8763 - val_loss: 0.3761 - val_accuracy: 0.8767\n",
      "Epoch 89/100\n",
      "2005/2005 [==============================] - 4s 2ms/step - loss: 0.3693 - accuracy: 0.8768 - val_loss: 0.3727 - val_accuracy: 0.8771\n",
      "Epoch 90/100\n",
      "2005/2005 [==============================] - 4s 2ms/step - loss: 0.3676 - accuracy: 0.8776 - val_loss: 0.3744 - val_accuracy: 0.8750\n",
      "Epoch 91/100\n",
      "2005/2005 [==============================] - 4s 2ms/step - loss: 0.3686 - accuracy: 0.8759 - val_loss: 0.3740 - val_accuracy: 0.8763\n",
      "Epoch 92/100\n",
      "2005/2005 [==============================] - 4s 2ms/step - loss: 0.3682 - accuracy: 0.8772 - val_loss: 0.3736 - val_accuracy: 0.8766\n",
      "Epoch 93/100\n",
      "2005/2005 [==============================] - 4s 2ms/step - loss: 0.3691 - accuracy: 0.8773 - val_loss: 0.3737 - val_accuracy: 0.8770\n",
      "Epoch 94/100\n",
      "2005/2005 [==============================] - 4s 2ms/step - loss: 0.3668 - accuracy: 0.8772 - val_loss: 0.3766 - val_accuracy: 0.8750\n",
      "Epoch 95/100\n",
      "2005/2005 [==============================] - 4s 2ms/step - loss: 0.3684 - accuracy: 0.8770 - val_loss: 0.3730 - val_accuracy: 0.8778\n",
      "Epoch 96/100\n",
      "2005/2005 [==============================] - 4s 2ms/step - loss: 0.3682 - accuracy: 0.8773 - val_loss: 0.3731 - val_accuracy: 0.8787\n",
      "Epoch 97/100\n",
      "2005/2005 [==============================] - 4s 2ms/step - loss: 0.3665 - accuracy: 0.8780 - val_loss: 0.3740 - val_accuracy: 0.8759\n",
      "Epoch 98/100\n",
      "2005/2005 [==============================] - 4s 2ms/step - loss: 0.3674 - accuracy: 0.8772 - val_loss: 0.3746 - val_accuracy: 0.8780\n",
      "Epoch 99/100\n",
      "2005/2005 [==============================] - 4s 2ms/step - loss: 0.3671 - accuracy: 0.8770 - val_loss: 0.3756 - val_accuracy: 0.8757\n",
      "Epoch 100/100\n",
      "2005/2005 [==============================] - 4s 2ms/step - loss: 0.3683 - accuracy: 0.8767 - val_loss: 0.3740 - val_accuracy: 0.8755\n"
     ]
    }
   ],
   "source": [
    "# Compile the model\n",
    "optimizer = Adam(learning_rate=0.0005)  # Lower learning rate\n",
    "model.compile(loss='categorical_crossentropy', optimizer=optimizer, metrics=['accuracy'])\n",
    "\n",
    "# Train the model\n",
    "history = model.fit(X_train, y_train, epochs=100, batch_size=32, validation_split=0.2, verbose=1)"
   ]
  },
  {
   "cell_type": "code",
   "execution_count": 16,
   "metadata": {},
   "outputs": [
    {
     "name": "stdout",
     "output_type": "stream",
     "text": [
      "627/627 [==============================] - 1s 885us/step - loss: 0.3665 - accuracy: 0.8819\n",
      "Test Accuracy: 0.8818717002868652\n"
     ]
    }
   ],
   "source": [
    "# Evaluate the model\n",
    "test_loss, test_accuracy = model.evaluate(X_test, y_test)\n",
    "print(f\"Test Accuracy: {test_accuracy}\")"
   ]
  },
  {
   "cell_type": "code",
   "execution_count": 17,
   "metadata": {
    "scrolled": true
   },
   "outputs": [
    {
     "name": "stdout",
     "output_type": "stream",
     "text": [
      "627/627 [==============================] - 1s 714us/step\n",
      "              precision    recall  f1-score   support\n",
      "\n",
      "           0       0.85      0.95      0.90      8175\n",
      "           1       0.50      0.10      0.17       644\n",
      "           2       0.00      0.00      0.00       206\n",
      "           3       0.91      0.91      0.91     10817\n",
      "           4       0.00      0.00      0.00       118\n",
      "           5       0.81      0.24      0.38        86\n",
      "\n",
      "    accuracy                           0.88     20046\n",
      "   macro avg       0.51      0.37      0.39     20046\n",
      "weighted avg       0.86      0.88      0.86     20046\n",
      "\n"
     ]
    },
    {
     "name": "stderr",
     "output_type": "stream",
     "text": [
      "/home/adamo/.local/lib/python3.10/site-packages/sklearn/metrics/_classification.py:1327: UndefinedMetricWarning: Precision and F-score are ill-defined and being set to 0.0 in labels with no predicted samples. Use `zero_division` parameter to control this behavior.\n",
      "  _warn_prf(average, modifier, msg_start, len(result))\n",
      "/home/adamo/.local/lib/python3.10/site-packages/sklearn/metrics/_classification.py:1327: UndefinedMetricWarning: Precision and F-score are ill-defined and being set to 0.0 in labels with no predicted samples. Use `zero_division` parameter to control this behavior.\n",
      "  _warn_prf(average, modifier, msg_start, len(result))\n",
      "/home/adamo/.local/lib/python3.10/site-packages/sklearn/metrics/_classification.py:1327: UndefinedMetricWarning: Precision and F-score are ill-defined and being set to 0.0 in labels with no predicted samples. Use `zero_division` parameter to control this behavior.\n",
      "  _warn_prf(average, modifier, msg_start, len(result))\n"
     ]
    }
   ],
   "source": [
    "# Predict and evaluate using sklearn\n",
    "y_pred = model.predict(X_test)\n",
    "y_pred_classes = y_pred.argmax(axis=1) \n",
    "y_test_classes = y_test.argmax(axis=1) \n",
    "\n",
    "print(classification_report(y_test_classes, y_pred_classes))"
   ]
  },
  {
   "cell_type": "code",
   "execution_count": 18,
   "metadata": {},
   "outputs": [],
   "source": [
    "\n",
    "model.save('sequential-model-2.h5')  # Saves in HDF5 format"
   ]
  }
 ],
 "metadata": {
  "kernelspec": {
   "display_name": "base",
   "language": "python",
   "name": "python3"
  },
  "language_info": {
   "codemirror_mode": {
    "name": "ipython",
    "version": 3
   },
   "file_extension": ".py",
   "mimetype": "text/x-python",
   "name": "python",
   "nbconvert_exporter": "python",
   "pygments_lexer": "ipython3",
   "version": "3.11.4"
  }
 },
 "nbformat": 4,
 "nbformat_minor": 2
}
