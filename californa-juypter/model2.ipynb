{
 "cells": [
  {
   "cell_type": "code",
   "execution_count": 1,
   "metadata": {},
   "outputs": [],
   "source": [
    "import pandas as pd\n",
    "import nltk\n",
    "from nltk.tokenize import word_tokenize\n",
    "import math"
   ]
  },
  {
   "cell_type": "code",
   "execution_count": 2,
   "metadata": {},
   "outputs": [],
   "source": [
    "df = pd.read_csv('cleaned_dataset.csv')"
   ]
  },
  {
   "cell_type": "code",
   "execution_count": 3,
   "metadata": {},
   "outputs": [
    {
     "data": {
      "text/html": [
       "<div>\n",
       "<style scoped>\n",
       "    .dataframe tbody tr th:only-of-type {\n",
       "        vertical-align: middle;\n",
       "    }\n",
       "\n",
       "    .dataframe tbody tr th {\n",
       "        vertical-align: top;\n",
       "    }\n",
       "\n",
       "    .dataframe thead th {\n",
       "        text-align: right;\n",
       "    }\n",
       "</style>\n",
       "<table border=\"1\" class=\"dataframe\">\n",
       "  <thead>\n",
       "    <tr style=\"text-align: right;\">\n",
       "      <th></th>\n",
       "      <th>damage</th>\n",
       "      <th>street_type</th>\n",
       "      <th>fire_unit</th>\n",
       "      <th>incident_start_date</th>\n",
       "      <th>structure_type</th>\n",
       "      <th>structure_category</th>\n",
       "      <th>roof_material</th>\n",
       "      <th>eaves</th>\n",
       "      <th>exterior_siding</th>\n",
       "      <th>window_pane</th>\n",
       "      <th>attached_patio_material</th>\n",
       "      <th>attached_fence_material</th>\n",
       "      <th>year_built</th>\n",
       "    </tr>\n",
       "  </thead>\n",
       "  <tbody>\n",
       "    <tr>\n",
       "      <th>0</th>\n",
       "      <td>No Damage</td>\n",
       "      <td>Road</td>\n",
       "      <td>LNU</td>\n",
       "      <td>6/6/2020 12:00:00 AM</td>\n",
       "      <td>Single Family Residence Multi Story</td>\n",
       "      <td>Single Residence</td>\n",
       "      <td>Asphalt</td>\n",
       "      <td>Unenclosed</td>\n",
       "      <td>Wood</td>\n",
       "      <td>Single Pane</td>\n",
       "      <td>No Patio Cover/Carport</td>\n",
       "      <td>No Fence</td>\n",
       "      <td>1997.0</td>\n",
       "    </tr>\n",
       "    <tr>\n",
       "      <th>1</th>\n",
       "      <td>Affected (1-9%)</td>\n",
       "      <td>Road</td>\n",
       "      <td>LNU</td>\n",
       "      <td>6/6/2020 12:00:00 AM</td>\n",
       "      <td>Single Family Residence Single Story</td>\n",
       "      <td>Single Residence</td>\n",
       "      <td>Asphalt</td>\n",
       "      <td>Unenclosed</td>\n",
       "      <td>Wood</td>\n",
       "      <td>Multi Pane</td>\n",
       "      <td>No Patio Cover/Carport</td>\n",
       "      <td>Combustible</td>\n",
       "      <td>1980.0</td>\n",
       "    </tr>\n",
       "    <tr>\n",
       "      <th>2</th>\n",
       "      <td>No Damage</td>\n",
       "      <td>Road</td>\n",
       "      <td>LNU</td>\n",
       "      <td>6/6/2020 12:00:00 AM</td>\n",
       "      <td>Single Family Residence Single Story</td>\n",
       "      <td>Single Residence</td>\n",
       "      <td>Asphalt</td>\n",
       "      <td>Enclosed</td>\n",
       "      <td>Wood</td>\n",
       "      <td>Single Pane</td>\n",
       "      <td>No Patio Cover/Carport</td>\n",
       "      <td>No Fence</td>\n",
       "      <td>2004.0</td>\n",
       "    </tr>\n",
       "    <tr>\n",
       "      <th>3</th>\n",
       "      <td>No Damage</td>\n",
       "      <td>Road</td>\n",
       "      <td>LNU</td>\n",
       "      <td>6/6/2020 12:00:00 AM</td>\n",
       "      <td>Single Family Residence Single Story</td>\n",
       "      <td>Single Residence</td>\n",
       "      <td>Asphalt</td>\n",
       "      <td>Unenclosed</td>\n",
       "      <td>Wood</td>\n",
       "      <td>Single Pane</td>\n",
       "      <td>Combustible</td>\n",
       "      <td>No Fence</td>\n",
       "      <td>1981.0</td>\n",
       "    </tr>\n",
       "    <tr>\n",
       "      <th>4</th>\n",
       "      <td>No Damage</td>\n",
       "      <td>Road</td>\n",
       "      <td>LNU</td>\n",
       "      <td>6/6/2020 12:00:00 AM</td>\n",
       "      <td>Single Family Residence Single Story</td>\n",
       "      <td>Single Residence</td>\n",
       "      <td>Tile</td>\n",
       "      <td>Enclosed</td>\n",
       "      <td>Wood</td>\n",
       "      <td>Multi Pane</td>\n",
       "      <td>Combustible</td>\n",
       "      <td>No Fence</td>\n",
       "      <td>1980.0</td>\n",
       "    </tr>\n",
       "  </tbody>\n",
       "</table>\n",
       "</div>"
      ],
      "text/plain": [
       "            damage street_type fire_unit   incident_start_date  \\\n",
       "0        No Damage        Road       LNU  6/6/2020 12:00:00 AM   \n",
       "1  Affected (1-9%)        Road       LNU  6/6/2020 12:00:00 AM   \n",
       "2        No Damage        Road       LNU  6/6/2020 12:00:00 AM   \n",
       "3        No Damage        Road       LNU  6/6/2020 12:00:00 AM   \n",
       "4        No Damage        Road       LNU  6/6/2020 12:00:00 AM   \n",
       "\n",
       "                         structure_type structure_category roof_material  \\\n",
       "0   Single Family Residence Multi Story   Single Residence       Asphalt   \n",
       "1  Single Family Residence Single Story   Single Residence       Asphalt   \n",
       "2  Single Family Residence Single Story   Single Residence       Asphalt   \n",
       "3  Single Family Residence Single Story   Single Residence       Asphalt   \n",
       "4  Single Family Residence Single Story   Single Residence          Tile   \n",
       "\n",
       "        eaves exterior_siding  window_pane attached_patio_material  \\\n",
       "0  Unenclosed            Wood  Single Pane  No Patio Cover/Carport   \n",
       "1  Unenclosed            Wood   Multi Pane  No Patio Cover/Carport   \n",
       "2    Enclosed            Wood  Single Pane  No Patio Cover/Carport   \n",
       "3  Unenclosed            Wood  Single Pane             Combustible   \n",
       "4    Enclosed            Wood   Multi Pane             Combustible   \n",
       "\n",
       "  attached_fence_material  year_built  \n",
       "0                No Fence      1997.0  \n",
       "1             Combustible      1980.0  \n",
       "2                No Fence      2004.0  \n",
       "3                No Fence      1981.0  \n",
       "4                No Fence      1980.0  "
      ]
     },
     "execution_count": 3,
     "metadata": {},
     "output_type": "execute_result"
    }
   ],
   "source": [
    "df.head()"
   ]
  },
  {
   "cell_type": "code",
   "execution_count": 4,
   "metadata": {},
   "outputs": [
    {
     "name": "stdout",
     "output_type": "stream",
     "text": [
      "<class 'pandas.core.frame.DataFrame'>\n",
      "RangeIndex: 100230 entries, 0 to 100229\n",
      "Data columns (total 13 columns):\n",
      " #   Column                   Non-Null Count   Dtype  \n",
      "---  ------                   --------------   -----  \n",
      " 0   damage                   100230 non-null  object \n",
      " 1   street_type              93525 non-null   object \n",
      " 2   fire_unit                100230 non-null  object \n",
      " 3   incident_start_date      100230 non-null  object \n",
      " 4   structure_type           100230 non-null  object \n",
      " 5   structure_category       100230 non-null  object \n",
      " 6   roof_material            99602 non-null   object \n",
      " 7   eaves                    99118 non-null   object \n",
      " 8   exterior_siding          99321 non-null   object \n",
      " 9   window_pane              99254 non-null   object \n",
      " 10  attached_patio_material  100230 non-null  object \n",
      " 11  attached_fence_material  78635 non-null   object \n",
      " 12  year_built               69812 non-null   float64\n",
      "dtypes: float64(1), object(12)\n",
      "memory usage: 9.9+ MB\n"
     ]
    }
   ],
   "source": [
    "df.info()"
   ]
  },
  {
   "cell_type": "code",
   "execution_count": 5,
   "metadata": {},
   "outputs": [
    {
     "data": {
      "text/plain": [
       "array(['LNU', 'AEU', 'BTU', 'SLU', 'SKU', 'SCU', 'BEU', 'LMU', 'RRU',\n",
       "       'BDU', 'KRN', 'NEU', 'SHU', 'TGU', 'LAC', 'MEU', 'MVU', 'HUU',\n",
       "       'TUU', 'FKU', 'MMU', 'CZU', 'ORC', 'VNC', 'TCU', 'SBC', 'SDU'],\n",
       "      dtype=object)"
      ]
     },
     "execution_count": 5,
     "metadata": {},
     "output_type": "execute_result"
    }
   ],
   "source": [
    "df['fire_unit'].unique()"
   ]
  },
  {
   "cell_type": "code",
   "execution_count": 6,
   "metadata": {},
   "outputs": [],
   "source": [
    "df['incident_start_date'] = pd.to_datetime(df['incident_start_date'], format='%m/%d/%Y %I:%M:%S %p')\n",
    "df['incident_year'] = df['incident_start_date'].dt.strftime('%Y-%m-%d')\n"
   ]
  },
  {
   "cell_type": "code",
   "execution_count": 7,
   "metadata": {},
   "outputs": [
    {
     "name": "stdout",
     "output_type": "stream",
     "text": [
      "{'damage': {'No Damage': 0, 'Affected (1-9%)': 1, 'Minor (10-25%)': 2, 'Destroyed (>50%)': 3, 'Major (26-50%)': 4, 'Inaccessible': 5}, 'street_type': {'Road': 0, 'Lane': 1, 'Other': 2, 'Trail': 3, 'Drive': 4, 'Street': 5, 'None': 6, 'Way': 7, 'Avenue': 8, 'Court': 9, 'Loop': 10, 'Route': 11, 'Place': 12, 'Alley': 13, 'Terrace': 14, 'Circle': 15, 'Boulevard': 16, 'Parkway': 17, nan: 18, ' ': 19, 'Hwy': 20, 'Dirt road': 21, '-': 22, 'not given': 23, 'Grade': 24, 'Ext.': 25, 'not noted': 26, 'Unk': 27, 'Pass': 28}, 'fire_unit': {'LNU': 0, 'AEU': 1, 'BTU': 2, 'SLU': 3, 'SKU': 4, 'SCU': 5, 'BEU': 6, 'LMU': 7, 'RRU': 8, 'BDU': 9, 'KRN': 10, 'NEU': 11, 'SHU': 12, 'TGU': 13, 'LAC': 14, 'MEU': 15, 'MVU': 16, 'HUU': 17, 'TUU': 18, 'FKU': 19, 'MMU': 20, 'CZU': 21, 'ORC': 22, 'VNC': 23, 'TCU': 24, 'SBC': 25, 'SDU': 26}, 'structure_type': {'Single Family Residence Multi Story': 0, 'Single Family Residence Single Story': 1, 'Utility Misc Structure': 2, 'Mobile Home Double Wide': 3, 'Motor Home': 4, 'Multi Family Residence Multi Story': 5, 'Commercial Building Single Story': 6, 'Mobile Home Single Wide': 7, 'Mixed Commercial/Residential': 8, 'Mobile Home Triple Wide': 9, 'Infrastructure': 10, 'School': 11, 'Multi Family Residence Single Story': 12, 'Commercial Building Multi Story': 13, 'Church': 14, 'Hospital': 15, 'Agriculture': 16, 'Single Famliy Residence Single Story': 17, 'Utility or Miscellaneous Structure > 120 sqft': 18}, 'structure_category': {'Single Residence': 0, 'Other Minor Structure': 1, 'Multiple Residence': 2, 'Nonresidential Commercial': 3, 'Mixed Commercial/Residential': 4, 'Infrastructure': 5, 'Agriculture': 6}, 'roof_material': {'Asphalt': 0, 'Tile': 1, 'Unknown': 2, 'Metal': 3, 'Concrete': 4, 'Other': 5, 'Wood': 6, ' ': 7, 'Combustible': 8, 'Fire Resistant': 9, nan: 10, 'No Deck/Porch': 11}, 'eaves': {'Unenclosed': 0, 'Enclosed': 1, 'Unknown': 2, 'No Eaves': 3, ' ': 4, 'Not Applicable': 5, nan: 6}, 'exterior_siding': {'Wood': 0, 'Stucco Brick Cement': 1, 'Unknown': 2, 'Metal': 3, 'Other': 4, 'Vinyl': 5, 'Ignition Resistant': 6, 'Combustible': 7, ' ': 8, 'Fire Resistant': 9, nan: 10, 'Stucco/Brick/Cement': 11}, 'window_pane': {'Single Pane': 0, 'Multi Pane': 1, 'Unknown': 2, 'No Windows': 3, ' ': 4, nan: 5, 'No Deck/Porch': 6, 'Radiant Heat': 7}, 'attached_patio_material': {'No Patio Cover/Carport': 0, 'Combustible': 1, 'Unknown': 2, 'Non Combustible': 3, ' ': 4}, 'attached_fence_material': {'No Fence': 0, 'Combustible': 1, 'Unknown': 2, 'Non Combustible': 3, nan: 4}}\n"
     ]
    }
   ],
   "source": [
    "bins_map = {} \n",
    "columns_to_bin = ['damage','street_type','fire_unit','structure_type','structure_category','roof_material','eaves','exterior_siding','window_pane','attached_patio_material','attached_fence_material']\n",
    "\n",
    "for column in df.columns: \n",
    "    if column not in columns_to_bin:\n",
    "        continue\n",
    "    unique_units = df[column].unique() \n",
    "    \n",
    "    mapping = {unit: idx for idx, unit in enumerate(unique_units, start=0)}\n",
    "    bins_map[column] = mapping \n",
    "    \n",
    "    df[column] = df[column].map(mapping)\n",
    "\n",
    "print(bins_map)\n"
   ]
  },
  {
   "cell_type": "code",
   "execution_count": 8,
   "metadata": {},
   "outputs": [],
   "source": [
    "# Ensure 'year_built' is numeric\n",
    "df['year_built'] = pd.to_numeric(df['year_built'], errors='coerce')\n",
    "\n",
    "# Extract 'incident_year' from 'incident_start_date' and ensure it's numeric\n",
    "df['incident_year'] = pd.to_datetime(df['incident_start_date']).dt.year\n",
    "\n",
    "# Handle missing 'year_built' values by filling them with the median\n",
    "df['year_built'] = df['year_built'].fillna(df['year_built'].median())\n",
    "\n",
    "# Calculate the age of the building, ensuring it's an integer\n",
    "df['age'] = (df['incident_year'] - df['year_built']).astype(int)"
   ]
  },
  {
   "cell_type": "code",
   "execution_count": 9,
   "metadata": {},
   "outputs": [],
   "source": [
    "# Drop the incident_start_date & year_built column\n",
    "df.drop(columns=['incident_start_date'], inplace=True)\n",
    "df.drop(columns=['year_built'], inplace=True)\n",
    "df.drop(columns=['incident_year'], inplace=True)"
   ]
  },
  {
   "cell_type": "code",
   "execution_count": 10,
   "metadata": {},
   "outputs": [
    {
     "name": "stderr",
     "output_type": "stream",
     "text": [
      "2025-02-08 21:42:22.888522: I tensorflow/core/platform/cpu_feature_guard.cc:193] This TensorFlow binary is optimized with oneAPI Deep Neural Network Library (oneDNN) to use the following CPU instructions in performance-critical operations:  AVX2 AVX512F AVX512_VNNI FMA\n",
      "To enable them in other operations, rebuild TensorFlow with the appropriate compiler flags.\n",
      "2025-02-08 21:42:23.001170: I tensorflow/core/util/util.cc:169] oneDNN custom operations are on. You may see slightly different numerical results due to floating-point round-off errors from different computation orders. To turn them off, set the environment variable `TF_ENABLE_ONEDNN_OPTS=0`.\n",
      "2025-02-08 21:42:23.006058: W tensorflow/stream_executor/platform/default/dso_loader.cc:64] Could not load dynamic library 'libcudart.so.11.0'; dlerror: libcudart.so.11.0: cannot open shared object file: No such file or directory\n",
      "2025-02-08 21:42:23.006071: I tensorflow/stream_executor/cuda/cudart_stub.cc:29] Ignore above cudart dlerror if you do not have a GPU set up on your machine.\n",
      "2025-02-08 21:42:23.024074: E tensorflow/stream_executor/cuda/cuda_blas.cc:2981] Unable to register cuBLAS factory: Attempting to register factory for plugin cuBLAS when one has already been registered\n",
      "2025-02-08 21:42:23.541721: W tensorflow/stream_executor/platform/default/dso_loader.cc:64] Could not load dynamic library 'libnvinfer.so.7'; dlerror: libnvinfer.so.7: cannot open shared object file: No such file or directory\n",
      "2025-02-08 21:42:23.541797: W tensorflow/stream_executor/platform/default/dso_loader.cc:64] Could not load dynamic library 'libnvinfer_plugin.so.7'; dlerror: libnvinfer_plugin.so.7: cannot open shared object file: No such file or directory\n",
      "2025-02-08 21:42:23.541802: W tensorflow/compiler/tf2tensorrt/utils/py_utils.cc:38] TF-TRT Warning: Cannot dlopen some TensorRT libraries. If you would like to use Nvidia GPU with TensorRT, please make sure the missing libraries mentioned above are installed properly.\n"
     ]
    }
   ],
   "source": [
    "from tensorflow.keras.utils import to_categorical\n",
    "from tensorflow.keras.models import Sequential\n",
    "from tensorflow.keras.layers import Dense, BatchNormalization, Dropout, LeakyReLU\n",
    "from tensorflow.keras.optimizers import Adam\n",
    "from tensorflow.keras.callbacks import ReduceLROnPlateau, EarlyStopping\n",
    "\n",
    "\n",
    "from sklearn.model_selection import train_test_split\n",
    "from sklearn.metrics import classification_report"
   ]
  },
  {
   "cell_type": "code",
   "execution_count": 11,
   "metadata": {},
   "outputs": [],
   "source": [
    "# Define features (X) and target (y)\n",
    "X = df.drop(columns=['damage'])\n",
    "y = df['damage']"
   ]
  },
  {
   "cell_type": "code",
   "execution_count": 12,
   "metadata": {},
   "outputs": [],
   "source": [
    "# One-hot encode the target variable if it's multi-class\n",
    "num_classes = len(y.unique())  \n",
    "y = to_categorical(y, num_classes=num_classes)"
   ]
  },
  {
   "cell_type": "code",
   "execution_count": 13,
   "metadata": {},
   "outputs": [],
   "source": [
    "# Split data into training and testing sets\n",
    "from sklearn.preprocessing import StandardScaler\n",
    "\n",
    "scaler = StandardScaler()\n",
    "X_train, X_test, y_train, y_test = train_test_split(X, y, test_size=0.2, random_state=42)\n",
    "X_train = scaler.fit_transform(X_train)\n",
    "X_test = scaler.transform(X_test)"
   ]
  },
  {
   "cell_type": "code",
   "execution_count": 14,
   "metadata": {},
   "outputs": [
    {
     "name": "stderr",
     "output_type": "stream",
     "text": [
      "2025-02-08 21:42:24.146193: W tensorflow/stream_executor/platform/default/dso_loader.cc:64] Could not load dynamic library 'libcuda.so.1'; dlerror: libcuda.so.1: cannot open shared object file: No such file or directory\n",
      "2025-02-08 21:42:24.146211: W tensorflow/stream_executor/cuda/cuda_driver.cc:263] failed call to cuInit: UNKNOWN ERROR (303)\n",
      "2025-02-08 21:42:24.146221: I tensorflow/stream_executor/cuda/cuda_diagnostics.cc:156] kernel driver does not appear to be running on this host (adamo-Surface-Pro-7): /proc/driver/nvidia/version does not exist\n",
      "2025-02-08 21:42:24.146464: I tensorflow/core/platform/cpu_feature_guard.cc:193] This TensorFlow binary is optimized with oneAPI Deep Neural Network Library (oneDNN) to use the following CPU instructions in performance-critical operations:  AVX2 AVX512F AVX512_VNNI FMA\n",
      "To enable them in other operations, rebuild TensorFlow with the appropriate compiler flags.\n"
     ]
    }
   ],
   "source": [
    "# Build the Keras model\n",
    "\n",
    "model = Sequential([\n",
    "    Dense(256, activation='relu', input_shape=(X_train.shape[1],)),  \n",
    "    BatchNormalization(),\n",
    "    Dropout(0.3),\n",
    "\n",
    "    Dense(128, activation='relu'),\n",
    "    BatchNormalization(),\n",
    "    Dropout(0.3),\n",
    "\n",
    "    Dense(64, activation='relu'),\n",
    "    BatchNormalization(),\n",
    "    \n",
    "    Dense(32, activation='relu'),\n",
    "    \n",
    "    Dense(16, activation='relu'),\n",
    "\n",
    "    Dense(num_classes, activation='softmax')  # Output layer\n",
    "])"
   ]
  },
  {
   "cell_type": "code",
   "execution_count": 15,
   "metadata": {},
   "outputs": [
    {
     "name": "stdout",
     "output_type": "stream",
     "text": [
      "Epoch 1/100\n",
      "2005/2005 [==============================] - 4s 2ms/step - loss: 0.6748 - accuracy: 0.7396 - val_loss: 0.6041 - val_accuracy: 0.7822\n",
      "Epoch 2/100\n",
      "2005/2005 [==============================] - 3s 2ms/step - loss: 0.5845 - accuracy: 0.7886 - val_loss: 0.5671 - val_accuracy: 0.7956\n",
      "Epoch 3/100\n",
      "2005/2005 [==============================] - 3s 2ms/step - loss: 0.5434 - accuracy: 0.8012 - val_loss: 0.5095 - val_accuracy: 0.8109\n",
      "Epoch 4/100\n",
      "2005/2005 [==============================] - 3s 2ms/step - loss: 0.5265 - accuracy: 0.8078 - val_loss: 0.5045 - val_accuracy: 0.8111\n",
      "Epoch 5/100\n",
      "2005/2005 [==============================] - 3s 2ms/step - loss: 0.5132 - accuracy: 0.8128 - val_loss: 0.4861 - val_accuracy: 0.8343\n",
      "Epoch 6/100\n",
      "2005/2005 [==============================] - 3s 2ms/step - loss: 0.5055 - accuracy: 0.8163 - val_loss: 0.4986 - val_accuracy: 0.8093\n",
      "Epoch 7/100\n",
      "2005/2005 [==============================] - 3s 2ms/step - loss: 0.5004 - accuracy: 0.8177 - val_loss: 0.4787 - val_accuracy: 0.8229\n",
      "Epoch 8/100\n",
      "2005/2005 [==============================] - 3s 2ms/step - loss: 0.4939 - accuracy: 0.8194 - val_loss: 0.4932 - val_accuracy: 0.8213\n",
      "Epoch 9/100\n",
      "2005/2005 [==============================] - 3s 2ms/step - loss: 0.4879 - accuracy: 0.8222 - val_loss: 0.4826 - val_accuracy: 0.8172\n",
      "Epoch 10/100\n",
      "2005/2005 [==============================] - 3s 2ms/step - loss: 0.4855 - accuracy: 0.8243 - val_loss: 0.4828 - val_accuracy: 0.8298\n",
      "Epoch 11/100\n",
      "2005/2005 [==============================] - 4s 2ms/step - loss: 0.4814 - accuracy: 0.8272 - val_loss: 0.4742 - val_accuracy: 0.8386\n",
      "Epoch 12/100\n",
      "2005/2005 [==============================] - 3s 2ms/step - loss: 0.4780 - accuracy: 0.8299 - val_loss: 0.4617 - val_accuracy: 0.8452\n",
      "Epoch 13/100\n",
      "2005/2005 [==============================] - 4s 2ms/step - loss: 0.4768 - accuracy: 0.8312 - val_loss: 0.4656 - val_accuracy: 0.8410\n",
      "Epoch 14/100\n",
      "2005/2005 [==============================] - 3s 2ms/step - loss: 0.4737 - accuracy: 0.8328 - val_loss: 0.4610 - val_accuracy: 0.8445\n",
      "Epoch 15/100\n",
      "2005/2005 [==============================] - 4s 2ms/step - loss: 0.4702 - accuracy: 0.8350 - val_loss: 0.4655 - val_accuracy: 0.8434\n",
      "Epoch 16/100\n",
      "2005/2005 [==============================] - 3s 2ms/step - loss: 0.4645 - accuracy: 0.8383 - val_loss: 0.4555 - val_accuracy: 0.8444\n",
      "Epoch 17/100\n",
      "2005/2005 [==============================] - 3s 2ms/step - loss: 0.4634 - accuracy: 0.8399 - val_loss: 0.4523 - val_accuracy: 0.8490\n",
      "Epoch 18/100\n",
      "2005/2005 [==============================] - 3s 2ms/step - loss: 0.4628 - accuracy: 0.8397 - val_loss: 0.4523 - val_accuracy: 0.8480\n",
      "Epoch 19/100\n",
      "2005/2005 [==============================] - 3s 2ms/step - loss: 0.4596 - accuracy: 0.8402 - val_loss: 0.4597 - val_accuracy: 0.8416\n",
      "Epoch 20/100\n",
      "2005/2005 [==============================] - 3s 2ms/step - loss: 0.4586 - accuracy: 0.8411 - val_loss: 0.4561 - val_accuracy: 0.8429\n",
      "Epoch 21/100\n",
      "2005/2005 [==============================] - 3s 2ms/step - loss: 0.4553 - accuracy: 0.8418 - val_loss: 0.4451 - val_accuracy: 0.8492\n",
      "Epoch 22/100\n",
      "2005/2005 [==============================] - 3s 2ms/step - loss: 0.4553 - accuracy: 0.8430 - val_loss: 0.4470 - val_accuracy: 0.8485\n",
      "Epoch 23/100\n",
      "2005/2005 [==============================] - 3s 2ms/step - loss: 0.4543 - accuracy: 0.8433 - val_loss: 0.4477 - val_accuracy: 0.8502\n",
      "Epoch 24/100\n",
      "2005/2005 [==============================] - 3s 2ms/step - loss: 0.4511 - accuracy: 0.8440 - val_loss: 0.4505 - val_accuracy: 0.8484\n",
      "Epoch 25/100\n",
      "2005/2005 [==============================] - 3s 2ms/step - loss: 0.4513 - accuracy: 0.8450 - val_loss: 0.4443 - val_accuracy: 0.8498\n",
      "Epoch 26/100\n",
      "2005/2005 [==============================] - 3s 2ms/step - loss: 0.4509 - accuracy: 0.8430 - val_loss: 0.4562 - val_accuracy: 0.8362\n",
      "Epoch 27/100\n",
      "2005/2005 [==============================] - 3s 2ms/step - loss: 0.4481 - accuracy: 0.8452 - val_loss: 0.4435 - val_accuracy: 0.8504\n",
      "Epoch 28/100\n",
      "2005/2005 [==============================] - 3s 2ms/step - loss: 0.4488 - accuracy: 0.8453 - val_loss: 0.4452 - val_accuracy: 0.8502\n",
      "Epoch 29/100\n",
      "2005/2005 [==============================] - 3s 2ms/step - loss: 0.4479 - accuracy: 0.8450 - val_loss: 0.4433 - val_accuracy: 0.8500\n",
      "Epoch 30/100\n",
      "2005/2005 [==============================] - 3s 2ms/step - loss: 0.4462 - accuracy: 0.8461 - val_loss: 0.4466 - val_accuracy: 0.8507\n",
      "Epoch 31/100\n",
      "2005/2005 [==============================] - 4s 2ms/step - loss: 0.4469 - accuracy: 0.8469 - val_loss: 0.4413 - val_accuracy: 0.8512\n",
      "Epoch 32/100\n",
      "2005/2005 [==============================] - 3s 2ms/step - loss: 0.4457 - accuracy: 0.8470 - val_loss: 0.4415 - val_accuracy: 0.8505\n",
      "Epoch 33/100\n",
      "2005/2005 [==============================] - 3s 2ms/step - loss: 0.4471 - accuracy: 0.8461 - val_loss: 0.4514 - val_accuracy: 0.8460\n",
      "Epoch 34/100\n",
      "2005/2005 [==============================] - 3s 2ms/step - loss: 0.4442 - accuracy: 0.8463 - val_loss: 0.4479 - val_accuracy: 0.8508\n",
      "Epoch 35/100\n",
      "2005/2005 [==============================] - 3s 2ms/step - loss: 0.4425 - accuracy: 0.8491 - val_loss: 0.4407 - val_accuracy: 0.8507\n",
      "Epoch 36/100\n",
      "2005/2005 [==============================] - 3s 2ms/step - loss: 0.4426 - accuracy: 0.8479 - val_loss: 0.4445 - val_accuracy: 0.8506\n",
      "Epoch 37/100\n",
      "2005/2005 [==============================] - 3s 2ms/step - loss: 0.4411 - accuracy: 0.8485 - val_loss: 0.4378 - val_accuracy: 0.8518\n",
      "Epoch 38/100\n",
      "2005/2005 [==============================] - 3s 2ms/step - loss: 0.4417 - accuracy: 0.8478 - val_loss: 0.4427 - val_accuracy: 0.8498\n",
      "Epoch 39/100\n",
      "2005/2005 [==============================] - 3s 2ms/step - loss: 0.4405 - accuracy: 0.8468 - val_loss: 0.4431 - val_accuracy: 0.8516\n",
      "Epoch 40/100\n",
      "2005/2005 [==============================] - 3s 2ms/step - loss: 0.4384 - accuracy: 0.8493 - val_loss: 0.4368 - val_accuracy: 0.8521\n",
      "Epoch 41/100\n",
      "2005/2005 [==============================] - 3s 2ms/step - loss: 0.4395 - accuracy: 0.8490 - val_loss: 0.4397 - val_accuracy: 0.8493\n",
      "Epoch 42/100\n",
      "2005/2005 [==============================] - 3s 2ms/step - loss: 0.4386 - accuracy: 0.8486 - val_loss: 0.4420 - val_accuracy: 0.8522\n",
      "Epoch 43/100\n",
      "2005/2005 [==============================] - 3s 2ms/step - loss: 0.4357 - accuracy: 0.8507 - val_loss: 0.4370 - val_accuracy: 0.8507\n",
      "Epoch 44/100\n",
      "2005/2005 [==============================] - 3s 2ms/step - loss: 0.4371 - accuracy: 0.8505 - val_loss: 0.4414 - val_accuracy: 0.8525\n",
      "Epoch 45/100\n",
      "2005/2005 [==============================] - 3s 2ms/step - loss: 0.4361 - accuracy: 0.8511 - val_loss: 0.4449 - val_accuracy: 0.8490\n",
      "Epoch 46/100\n",
      "2005/2005 [==============================] - 3s 2ms/step - loss: 0.4330 - accuracy: 0.8510 - val_loss: 0.4378 - val_accuracy: 0.8513\n",
      "Epoch 47/100\n",
      "2005/2005 [==============================] - 3s 2ms/step - loss: 0.4329 - accuracy: 0.8502 - val_loss: 0.4374 - val_accuracy: 0.8518\n",
      "Epoch 48/100\n",
      "2005/2005 [==============================] - 3s 2ms/step - loss: 0.4335 - accuracy: 0.8499 - val_loss: 0.4370 - val_accuracy: 0.8525\n",
      "Epoch 49/100\n",
      "2005/2005 [==============================] - 3s 2ms/step - loss: 0.4339 - accuracy: 0.8517 - val_loss: 0.4399 - val_accuracy: 0.8525\n",
      "Epoch 50/100\n",
      "2005/2005 [==============================] - 3s 2ms/step - loss: 0.4324 - accuracy: 0.8520 - val_loss: 0.4450 - val_accuracy: 0.8494\n",
      "Epoch 51/100\n",
      "2005/2005 [==============================] - 4s 2ms/step - loss: 0.4323 - accuracy: 0.8515 - val_loss: 0.4351 - val_accuracy: 0.8544\n",
      "Epoch 52/100\n",
      "2005/2005 [==============================] - 3s 2ms/step - loss: 0.4326 - accuracy: 0.8520 - val_loss: 0.4357 - val_accuracy: 0.8536\n",
      "Epoch 53/100\n",
      "2005/2005 [==============================] - 3s 2ms/step - loss: 0.4304 - accuracy: 0.8527 - val_loss: 0.4340 - val_accuracy: 0.8520\n",
      "Epoch 54/100\n",
      "2005/2005 [==============================] - 3s 2ms/step - loss: 0.4315 - accuracy: 0.8519 - val_loss: 0.4389 - val_accuracy: 0.8515\n",
      "Epoch 55/100\n",
      "2005/2005 [==============================] - 3s 2ms/step - loss: 0.4311 - accuracy: 0.8531 - val_loss: 0.4406 - val_accuracy: 0.8528\n",
      "Epoch 56/100\n",
      "2005/2005 [==============================] - 3s 2ms/step - loss: 0.4301 - accuracy: 0.8520 - val_loss: 0.4374 - val_accuracy: 0.8518\n",
      "Epoch 57/100\n"
     ]
    },
    {
     "name": "stdout",
     "output_type": "stream",
     "text": [
      "2005/2005 [==============================] - 3s 2ms/step - loss: 0.4303 - accuracy: 0.8526 - val_loss: 0.4345 - val_accuracy: 0.8517\n",
      "Epoch 58/100\n",
      "2005/2005 [==============================] - 3s 2ms/step - loss: 0.4280 - accuracy: 0.8528 - val_loss: 0.4348 - val_accuracy: 0.8517\n",
      "Epoch 59/100\n",
      "2005/2005 [==============================] - 3s 2ms/step - loss: 0.4281 - accuracy: 0.8535 - val_loss: 0.4394 - val_accuracy: 0.8526\n",
      "Epoch 60/100\n",
      "2005/2005 [==============================] - 3s 2ms/step - loss: 0.4298 - accuracy: 0.8528 - val_loss: 0.4360 - val_accuracy: 0.8535\n",
      "Epoch 61/100\n",
      "2005/2005 [==============================] - 3s 2ms/step - loss: 0.4269 - accuracy: 0.8527 - val_loss: 0.4361 - val_accuracy: 0.8546\n",
      "Epoch 62/100\n",
      "2005/2005 [==============================] - 3s 2ms/step - loss: 0.4277 - accuracy: 0.8531 - val_loss: 0.4401 - val_accuracy: 0.8518\n",
      "Epoch 63/100\n",
      "2005/2005 [==============================] - 3s 2ms/step - loss: 0.4268 - accuracy: 0.8544 - val_loss: 0.4365 - val_accuracy: 0.8525\n",
      "Epoch 64/100\n",
      "2005/2005 [==============================] - 3s 2ms/step - loss: 0.4288 - accuracy: 0.8533 - val_loss: 0.4333 - val_accuracy: 0.8552\n",
      "Epoch 65/100\n",
      "2005/2005 [==============================] - 3s 2ms/step - loss: 0.4286 - accuracy: 0.8521 - val_loss: 0.4388 - val_accuracy: 0.8502\n",
      "Epoch 66/100\n",
      "2005/2005 [==============================] - 3s 2ms/step - loss: 0.4257 - accuracy: 0.8530 - val_loss: 0.4327 - val_accuracy: 0.8537\n",
      "Epoch 67/100\n",
      "2005/2005 [==============================] - 3s 2ms/step - loss: 0.4260 - accuracy: 0.8535 - val_loss: 0.4369 - val_accuracy: 0.8534\n",
      "Epoch 68/100\n",
      "2005/2005 [==============================] - 3s 2ms/step - loss: 0.4257 - accuracy: 0.8543 - val_loss: 0.4401 - val_accuracy: 0.8518\n",
      "Epoch 69/100\n",
      "2005/2005 [==============================] - 3s 2ms/step - loss: 0.4235 - accuracy: 0.8547 - val_loss: 0.4431 - val_accuracy: 0.8541\n",
      "Epoch 70/100\n",
      "2005/2005 [==============================] - 4s 2ms/step - loss: 0.4236 - accuracy: 0.8549 - val_loss: 0.4382 - val_accuracy: 0.8533\n",
      "Epoch 71/100\n",
      "2005/2005 [==============================] - 5s 2ms/step - loss: 0.4230 - accuracy: 0.8560 - val_loss: 0.4360 - val_accuracy: 0.8551\n",
      "Epoch 72/100\n",
      "2005/2005 [==============================] - 4s 2ms/step - loss: 0.4233 - accuracy: 0.8544 - val_loss: 0.4372 - val_accuracy: 0.8533\n",
      "Epoch 73/100\n",
      "2005/2005 [==============================] - 4s 2ms/step - loss: 0.4226 - accuracy: 0.8544 - val_loss: 0.4418 - val_accuracy: 0.8508\n",
      "Epoch 74/100\n",
      "2005/2005 [==============================] - 6s 3ms/step - loss: 0.4234 - accuracy: 0.8545 - val_loss: 0.4336 - val_accuracy: 0.8550\n",
      "Epoch 75/100\n",
      "2005/2005 [==============================] - 5s 2ms/step - loss: 0.4222 - accuracy: 0.8550 - val_loss: 0.4350 - val_accuracy: 0.8543\n",
      "Epoch 76/100\n",
      "2005/2005 [==============================] - 5s 2ms/step - loss: 0.4208 - accuracy: 0.8566 - val_loss: 0.4351 - val_accuracy: 0.8539\n",
      "Epoch 77/100\n",
      "2005/2005 [==============================] - 5s 3ms/step - loss: 0.4191 - accuracy: 0.8558 - val_loss: 0.4383 - val_accuracy: 0.8529\n",
      "Epoch 78/100\n",
      "2005/2005 [==============================] - 5s 2ms/step - loss: 0.4207 - accuracy: 0.8556 - val_loss: 0.4375 - val_accuracy: 0.8536\n",
      "Epoch 79/100\n",
      "2005/2005 [==============================] - 4s 2ms/step - loss: 0.4195 - accuracy: 0.8563 - val_loss: 0.4406 - val_accuracy: 0.8532\n",
      "Epoch 80/100\n",
      "2005/2005 [==============================] - 3s 2ms/step - loss: 0.4227 - accuracy: 0.8545 - val_loss: 0.4298 - val_accuracy: 0.8538\n",
      "Epoch 81/100\n",
      "2005/2005 [==============================] - 4s 2ms/step - loss: 0.4197 - accuracy: 0.8565 - val_loss: 0.4413 - val_accuracy: 0.8546\n",
      "Epoch 82/100\n",
      "2005/2005 [==============================] - 4s 2ms/step - loss: 0.4214 - accuracy: 0.8551 - val_loss: 0.4350 - val_accuracy: 0.8563\n",
      "Epoch 83/100\n",
      "2005/2005 [==============================] - 3s 2ms/step - loss: 0.4222 - accuracy: 0.8553 - val_loss: 0.4376 - val_accuracy: 0.8551\n",
      "Epoch 84/100\n",
      "2005/2005 [==============================] - 4s 2ms/step - loss: 0.4213 - accuracy: 0.8553 - val_loss: 0.4355 - val_accuracy: 0.8535\n",
      "Epoch 85/100\n",
      "2005/2005 [==============================] - 4s 2ms/step - loss: 0.4180 - accuracy: 0.8568 - val_loss: 0.4477 - val_accuracy: 0.8526\n",
      "Epoch 86/100\n",
      "2005/2005 [==============================] - 4s 2ms/step - loss: 0.4181 - accuracy: 0.8567 - val_loss: 0.4491 - val_accuracy: 0.8554\n",
      "Epoch 87/100\n",
      "2005/2005 [==============================] - 3s 2ms/step - loss: 0.4156 - accuracy: 0.8573 - val_loss: 0.4460 - val_accuracy: 0.8537\n",
      "Epoch 88/100\n",
      "2005/2005 [==============================] - 3s 2ms/step - loss: 0.4188 - accuracy: 0.8559 - val_loss: 0.4336 - val_accuracy: 0.8572\n",
      "Epoch 89/100\n",
      "2005/2005 [==============================] - 3s 2ms/step - loss: 0.4164 - accuracy: 0.8565 - val_loss: 0.4410 - val_accuracy: 0.8519\n",
      "Epoch 90/100\n",
      "2005/2005 [==============================] - 4s 2ms/step - loss: 0.4194 - accuracy: 0.8561 - val_loss: 0.4368 - val_accuracy: 0.8545\n",
      "Epoch 91/100\n",
      "2005/2005 [==============================] - 3s 2ms/step - loss: 0.4176 - accuracy: 0.8561 - val_loss: 0.4310 - val_accuracy: 0.8574\n",
      "Epoch 92/100\n",
      "2005/2005 [==============================] - 3s 2ms/step - loss: 0.4168 - accuracy: 0.8562 - val_loss: 0.4393 - val_accuracy: 0.8517\n",
      "Epoch 93/100\n",
      "2005/2005 [==============================] - 3s 2ms/step - loss: 0.4180 - accuracy: 0.8568 - val_loss: 0.4354 - val_accuracy: 0.8570\n",
      "Epoch 94/100\n",
      "2005/2005 [==============================] - 3s 2ms/step - loss: 0.4169 - accuracy: 0.8570 - val_loss: 0.4443 - val_accuracy: 0.8555\n",
      "Epoch 95/100\n",
      "2005/2005 [==============================] - 3s 2ms/step - loss: 0.4168 - accuracy: 0.8568 - val_loss: 0.4394 - val_accuracy: 0.8561\n",
      "Epoch 96/100\n",
      "2005/2005 [==============================] - 3s 2ms/step - loss: 0.4161 - accuracy: 0.8577 - val_loss: 0.4427 - val_accuracy: 0.8561\n",
      "Epoch 97/100\n",
      "2005/2005 [==============================] - 3s 2ms/step - loss: 0.4155 - accuracy: 0.8578 - val_loss: 0.4381 - val_accuracy: 0.8557\n",
      "Epoch 98/100\n",
      "2005/2005 [==============================] - 3s 2ms/step - loss: 0.4145 - accuracy: 0.8580 - val_loss: 0.4307 - val_accuracy: 0.8577\n",
      "Epoch 99/100\n",
      "2005/2005 [==============================] - 3s 2ms/step - loss: 0.4139 - accuracy: 0.8583 - val_loss: 0.4352 - val_accuracy: 0.8551\n",
      "Epoch 100/100\n",
      "2005/2005 [==============================] - 3s 2ms/step - loss: 0.4129 - accuracy: 0.8577 - val_loss: 0.4370 - val_accuracy: 0.8559\n"
     ]
    }
   ],
   "source": [
    "# Compile the model\n",
    "optimizer = Adam(learning_rate=0.0005)  # Lower learning rate\n",
    "model.compile(loss='categorical_crossentropy', optimizer=optimizer, metrics=['accuracy'])\n",
    "\n",
    "# Train the model\n",
    "history = model.fit(X_train, y_train, epochs=100, batch_size=32, validation_split=0.2, verbose=1)"
   ]
  },
  {
   "cell_type": "code",
   "execution_count": 16,
   "metadata": {},
   "outputs": [
    {
     "name": "stdout",
     "output_type": "stream",
     "text": [
      "627/627 [==============================] - 1s 916us/step - loss: 0.4171 - accuracy: 0.8613\n",
      "Test Accuracy: 0.8613189458847046\n"
     ]
    }
   ],
   "source": [
    "# Evaluate the model\n",
    "test_loss, test_accuracy = model.evaluate(X_test, y_test)\n",
    "print(f\"Test Accuracy: {test_accuracy}\")"
   ]
  },
  {
   "cell_type": "code",
   "execution_count": 17,
   "metadata": {
    "scrolled": true
   },
   "outputs": [
    {
     "name": "stdout",
     "output_type": "stream",
     "text": [
      "627/627 [==============================] - 1s 707us/step\n",
      "              precision    recall  f1-score   support\n",
      "\n",
      "           0       0.81      0.96      0.88      8175\n",
      "           1       0.43      0.09      0.14       644\n",
      "           2       1.00      0.01      0.02       206\n",
      "           3       0.91      0.87      0.89     10817\n",
      "           4       0.00      0.00      0.00       118\n",
      "           5       0.57      0.27      0.37        86\n",
      "\n",
      "    accuracy                           0.86     20046\n",
      "   macro avg       0.62      0.36      0.38     20046\n",
      "weighted avg       0.85      0.86      0.84     20046\n",
      "\n"
     ]
    },
    {
     "name": "stderr",
     "output_type": "stream",
     "text": [
      "/home/adamo/.local/lib/python3.10/site-packages/sklearn/metrics/_classification.py:1327: UndefinedMetricWarning: Precision and F-score are ill-defined and being set to 0.0 in labels with no predicted samples. Use `zero_division` parameter to control this behavior.\n",
      "  _warn_prf(average, modifier, msg_start, len(result))\n",
      "/home/adamo/.local/lib/python3.10/site-packages/sklearn/metrics/_classification.py:1327: UndefinedMetricWarning: Precision and F-score are ill-defined and being set to 0.0 in labels with no predicted samples. Use `zero_division` parameter to control this behavior.\n",
      "  _warn_prf(average, modifier, msg_start, len(result))\n",
      "/home/adamo/.local/lib/python3.10/site-packages/sklearn/metrics/_classification.py:1327: UndefinedMetricWarning: Precision and F-score are ill-defined and being set to 0.0 in labels with no predicted samples. Use `zero_division` parameter to control this behavior.\n",
      "  _warn_prf(average, modifier, msg_start, len(result))\n"
     ]
    }
   ],
   "source": [
    "# Predict and evaluate using sklearn\n",
    "y_pred = model.predict(X_test)\n",
    "y_pred_classes = y_pred.argmax(axis=1) \n",
    "y_test_classes = y_test.argmax(axis=1) \n",
    "\n",
    "print(classification_report(y_test_classes, y_pred_classes))"
   ]
  },
  {
   "cell_type": "code",
   "execution_count": 18,
   "metadata": {},
   "outputs": [],
   "source": [
    "\n",
    "model.save('sequential-model-2.h5')  # Saves in HDF5 format"
   ]
  }
 ],
 "metadata": {
  "kernelspec": {
   "display_name": "Python 3 (ipykernel)",
   "language": "python",
   "name": "python3"
  },
  "language_info": {
   "codemirror_mode": {
    "name": "ipython",
    "version": 3
   },
   "file_extension": ".py",
   "mimetype": "text/x-python",
   "name": "python",
   "nbconvert_exporter": "python",
   "pygments_lexer": "ipython3",
   "version": "3.10.12"
  }
 },
 "nbformat": 4,
 "nbformat_minor": 2
}
